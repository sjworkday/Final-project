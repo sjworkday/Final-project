{
 "cells": [
  {
   "cell_type": "markdown",
   "metadata": {
    "id": "o2h-ZEkx3FnU"
   },
   "source": [
    "# Importing the necessary libraries"
   ]
  },
  {
   "cell_type": "code",
   "execution_count": null,
   "metadata": {
    "id": "Db7vjTKHbVe5"
   },
   "outputs": [],
   "source": [
    "import numpy as np\n",
    "import pandas as pd\n",
    "import matplotlib.pyplot as plt\n",
    "import seaborn as sns"
   ]
  },
  {
   "cell_type": "code",
   "execution_count": null,
   "metadata": {
    "id": "XZQIDQf-0Ka-"
   },
   "outputs": [],
   "source": [
    "df = pd.read_csv('bank_fraud.zip')"
   ]
  },
  {
   "cell_type": "markdown",
   "metadata": {
    "id": "MMG5gso-3Vz6"
   },
   "source": [
    "# Obseriving the dataset"
   ]
  },
  {
   "cell_type": "code",
   "execution_count": null,
   "metadata": {
    "colab": {
     "base_uri": "https://localhost:8080/",
     "height": 206
    },
    "id": "yh2XRASJ1bq7",
    "outputId": "05dafcd4-fe9f-4a98-93ed-4e4d95d76a03"
   },
   "outputs": [
    {
     "data": {
      "text/html": [
       "<div>\n",
       "<style scoped>\n",
       "    .dataframe tbody tr th:only-of-type {\n",
       "        vertical-align: middle;\n",
       "    }\n",
       "\n",
       "    .dataframe tbody tr th {\n",
       "        vertical-align: top;\n",
       "    }\n",
       "\n",
       "    .dataframe thead th {\n",
       "        text-align: right;\n",
       "    }\n",
       "</style>\n",
       "<table border=\"1\" class=\"dataframe\">\n",
       "  <thead>\n",
       "    <tr style=\"text-align: right;\">\n",
       "      <th></th>\n",
       "      <th>step</th>\n",
       "      <th>customer</th>\n",
       "      <th>age</th>\n",
       "      <th>gender</th>\n",
       "      <th>merchant</th>\n",
       "      <th>category</th>\n",
       "      <th>amount</th>\n",
       "      <th>fraud</th>\n",
       "    </tr>\n",
       "  </thead>\n",
       "  <tbody>\n",
       "    <tr>\n",
       "      <th>0</th>\n",
       "      <td>0</td>\n",
       "      <td>'C1093826151'</td>\n",
       "      <td>'4'</td>\n",
       "      <td>'M'</td>\n",
       "      <td>'M348934600'</td>\n",
       "      <td>'es_transportation'</td>\n",
       "      <td>4.55</td>\n",
       "      <td>0</td>\n",
       "    </tr>\n",
       "    <tr>\n",
       "      <th>1</th>\n",
       "      <td>0</td>\n",
       "      <td>'C352968107'</td>\n",
       "      <td>'2'</td>\n",
       "      <td>'M'</td>\n",
       "      <td>'M348934600'</td>\n",
       "      <td>'es_transportation'</td>\n",
       "      <td>39.68</td>\n",
       "      <td>0</td>\n",
       "    </tr>\n",
       "    <tr>\n",
       "      <th>2</th>\n",
       "      <td>0</td>\n",
       "      <td>'C2054744914'</td>\n",
       "      <td>'4'</td>\n",
       "      <td>'F'</td>\n",
       "      <td>'M1823072687'</td>\n",
       "      <td>'es_transportation'</td>\n",
       "      <td>26.89</td>\n",
       "      <td>0</td>\n",
       "    </tr>\n",
       "    <tr>\n",
       "      <th>3</th>\n",
       "      <td>0</td>\n",
       "      <td>'C1760612790'</td>\n",
       "      <td>'3'</td>\n",
       "      <td>'M'</td>\n",
       "      <td>'M348934600'</td>\n",
       "      <td>'es_transportation'</td>\n",
       "      <td>17.25</td>\n",
       "      <td>0</td>\n",
       "    </tr>\n",
       "    <tr>\n",
       "      <th>4</th>\n",
       "      <td>0</td>\n",
       "      <td>'C757503768'</td>\n",
       "      <td>'5'</td>\n",
       "      <td>'M'</td>\n",
       "      <td>'M348934600'</td>\n",
       "      <td>'es_transportation'</td>\n",
       "      <td>35.72</td>\n",
       "      <td>0</td>\n",
       "    </tr>\n",
       "  </tbody>\n",
       "</table>\n",
       "</div>"
      ],
      "text/plain": [
       "   step       customer  age  ...             category amount fraud\n",
       "0     0  'C1093826151'  '4'  ...  'es_transportation'   4.55     0\n",
       "1     0   'C352968107'  '2'  ...  'es_transportation'  39.68     0\n",
       "2     0  'C2054744914'  '4'  ...  'es_transportation'  26.89     0\n",
       "3     0  'C1760612790'  '3'  ...  'es_transportation'  17.25     0\n",
       "4     0   'C757503768'  '5'  ...  'es_transportation'  35.72     0\n",
       "\n",
       "[5 rows x 8 columns]"
      ]
     },
     "execution_count": 67,
     "metadata": {
      "tags": []
     },
     "output_type": "execute_result"
    }
   ],
   "source": [
    "df.head()"
   ]
  },
  {
   "cell_type": "code",
   "execution_count": null,
   "metadata": {
    "colab": {
     "base_uri": "https://localhost:8080/"
    },
    "id": "0w5luQKC1bn8",
    "outputId": "2fe10788-a0c1-4609-ca96-a5992336a3fd"
   },
   "outputs": [
    {
     "data": {
      "text/plain": [
       "(594643, 10)"
      ]
     },
     "execution_count": 5,
     "metadata": {
      "tags": []
     },
     "output_type": "execute_result"
    }
   ],
   "source": [
    "df.shape"
   ]
  },
  {
   "cell_type": "markdown",
   "metadata": {
    "id": "x8GjIIGr3r4j"
   },
   "source": [
    "checking for null values"
   ]
  },
  {
   "cell_type": "code",
   "execution_count": null,
   "metadata": {
    "colab": {
     "base_uri": "https://localhost:8080/",
     "height": 300
    },
    "id": "vsi1AnlupSmQ",
    "outputId": "0159ac78-9410-40b8-8fe8-7f93012ea1b9"
   },
   "outputs": [
    {
     "data": {
      "text/html": [
       "<div>\n",
       "<style scoped>\n",
       "    .dataframe tbody tr th:only-of-type {\n",
       "        vertical-align: middle;\n",
       "    }\n",
       "\n",
       "    .dataframe tbody tr th {\n",
       "        vertical-align: top;\n",
       "    }\n",
       "\n",
       "    .dataframe thead th {\n",
       "        text-align: right;\n",
       "    }\n",
       "</style>\n",
       "<table border=\"1\" class=\"dataframe\">\n",
       "  <thead>\n",
       "    <tr style=\"text-align: right;\">\n",
       "      <th></th>\n",
       "      <th>step</th>\n",
       "      <th>amount</th>\n",
       "      <th>fraud</th>\n",
       "    </tr>\n",
       "  </thead>\n",
       "  <tbody>\n",
       "    <tr>\n",
       "      <th>count</th>\n",
       "      <td>594643.000000</td>\n",
       "      <td>594643.000000</td>\n",
       "      <td>594643.000000</td>\n",
       "    </tr>\n",
       "    <tr>\n",
       "      <th>mean</th>\n",
       "      <td>94.986827</td>\n",
       "      <td>37.890135</td>\n",
       "      <td>0.012108</td>\n",
       "    </tr>\n",
       "    <tr>\n",
       "      <th>std</th>\n",
       "      <td>51.053632</td>\n",
       "      <td>111.402831</td>\n",
       "      <td>0.109369</td>\n",
       "    </tr>\n",
       "    <tr>\n",
       "      <th>min</th>\n",
       "      <td>0.000000</td>\n",
       "      <td>0.000000</td>\n",
       "      <td>0.000000</td>\n",
       "    </tr>\n",
       "    <tr>\n",
       "      <th>25%</th>\n",
       "      <td>52.000000</td>\n",
       "      <td>13.740000</td>\n",
       "      <td>0.000000</td>\n",
       "    </tr>\n",
       "    <tr>\n",
       "      <th>50%</th>\n",
       "      <td>97.000000</td>\n",
       "      <td>26.900000</td>\n",
       "      <td>0.000000</td>\n",
       "    </tr>\n",
       "    <tr>\n",
       "      <th>75%</th>\n",
       "      <td>139.000000</td>\n",
       "      <td>42.540000</td>\n",
       "      <td>0.000000</td>\n",
       "    </tr>\n",
       "    <tr>\n",
       "      <th>max</th>\n",
       "      <td>179.000000</td>\n",
       "      <td>8329.960000</td>\n",
       "      <td>1.000000</td>\n",
       "    </tr>\n",
       "  </tbody>\n",
       "</table>\n",
       "</div>"
      ],
      "text/plain": [
       "                step         amount          fraud\n",
       "count  594643.000000  594643.000000  594643.000000\n",
       "mean       94.986827      37.890135       0.012108\n",
       "std        51.053632     111.402831       0.109369\n",
       "min         0.000000       0.000000       0.000000\n",
       "25%        52.000000      13.740000       0.000000\n",
       "50%        97.000000      26.900000       0.000000\n",
       "75%       139.000000      42.540000       0.000000\n",
       "max       179.000000    8329.960000       1.000000"
      ]
     },
     "execution_count": 66,
     "metadata": {
      "tags": []
     },
     "output_type": "execute_result"
    }
   ],
   "source": [
    "df.describe()"
   ]
  },
  {
   "cell_type": "code",
   "execution_count": null,
   "metadata": {
    "colab": {
     "base_uri": "https://localhost:8080/"
    },
    "id": "51YzNuGDpQxe",
    "outputId": "88c7dfbd-f67b-445b-f5d4-6165b4f70ec5"
   },
   "outputs": [
    {
     "name": "stdout",
     "output_type": "stream",
     "text": [
      "<class 'pandas.core.frame.DataFrame'>\n",
      "RangeIndex: 594643 entries, 0 to 594642\n",
      "Data columns (total 8 columns):\n",
      " #   Column    Non-Null Count   Dtype  \n",
      "---  ------    --------------   -----  \n",
      " 0   step      594643 non-null  int64  \n",
      " 1   customer  594643 non-null  object \n",
      " 2   age       594643 non-null  object \n",
      " 3   gender    594643 non-null  object \n",
      " 4   merchant  594643 non-null  object \n",
      " 5   category  594643 non-null  object \n",
      " 6   amount    594643 non-null  float64\n",
      " 7   fraud     594643 non-null  int64  \n",
      "dtypes: float64(1), int64(2), object(5)\n",
      "memory usage: 36.3+ MB\n"
     ]
    }
   ],
   "source": [
    "df.info()"
   ]
  },
  {
   "cell_type": "code",
   "execution_count": null,
   "metadata": {
    "colab": {
     "base_uri": "https://localhost:8080/"
    },
    "id": "497mYp8f3twv",
    "outputId": "007965b8-0465-455b-ec9f-aa1c4cfb8678"
   },
   "outputs": [
    {
     "data": {
      "text/plain": [
       "step           0\n",
       "customer       0\n",
       "age            0\n",
       "gender         0\n",
       "zipcodeOri     0\n",
       "merchant       0\n",
       "zipMerchant    0\n",
       "category       0\n",
       "amount         0\n",
       "fraud          0\n",
       "dtype: int64"
      ]
     },
     "execution_count": 16,
     "metadata": {
      "tags": []
     },
     "output_type": "execute_result"
    }
   ],
   "source": [
    "df.isnull().sum()\n",
    "# number of null values"
   ]
  },
  {
   "cell_type": "code",
   "execution_count": null,
   "metadata": {
    "colab": {
     "base_uri": "https://localhost:8080/"
    },
    "id": "FtTKabRa1blo",
    "outputId": "6a0f5f33-90c8-4438-c3f3-a3f02c1fc1d4"
   },
   "outputs": [
    {
     "data": {
      "text/plain": [
       "'C1978250683'    265\n",
       "'C1275518867'    252\n",
       "'C806399525'     237\n",
       "'C515668508'     205\n",
       "'C1338396147'    195\n",
       "                ... \n",
       "'C1345586046'      6\n",
       "'C1156745710'      6\n",
       "'C1809646275'      5\n",
       "'C1743702978'      5\n",
       "'C1404665203'      5\n",
       "Name: customer, Length: 4112, dtype: int64"
      ]
     },
     "execution_count": 9,
     "metadata": {
      "tags": []
     },
     "output_type": "execute_result"
    }
   ],
   "source": [
    "df.customer.value_counts()\n",
    "# number of customers"
   ]
  },
  {
   "cell_type": "code",
   "execution_count": null,
   "metadata": {
    "id": "vc1FYGojaIy3"
   },
   "outputs": [],
   "source": [
    "df.merchant.value_counts()"
   ]
  },
  {
   "cell_type": "code",
   "execution_count": null,
   "metadata": {
    "colab": {
     "base_uri": "https://localhost:8080/"
    },
    "id": "Z9q2CXYE1gMt",
    "outputId": "95c4aaab-5c9c-469e-cf26-fe3b5884c01d"
   },
   "outputs": [
    {
     "data": {
      "text/plain": [
       "'2'    187310\n",
       "'3'    147131\n",
       "'4'    109025\n",
       "'5'     62642\n",
       "'1'     58131\n",
       "'6'     26774\n",
       "'0'      2452\n",
       "'U'      1178\n",
       "Name: age, dtype: int64"
      ]
     },
     "execution_count": 43,
     "metadata": {
      "tags": []
     },
     "output_type": "execute_result"
    }
   ],
   "source": [
    "df.age.value_counts()\n",
    "# number of frauds per age group"
   ]
  },
  {
   "cell_type": "markdown",
   "metadata": {
    "id": "ijDl_uj6d7j-"
   },
   "source": [
    "# Exploratory Data Analysis"
   ]
  },
  {
   "cell_type": "code",
   "execution_count": null,
   "metadata": {
    "colab": {
     "base_uri": "https://localhost:8080/",
     "height": 355
    },
    "id": "1GXFhhlK350A",
    "outputId": "3384b6f6-3ed8-4db5-90da-6e6470d65709"
   },
   "outputs": [
    {
     "data": {
      "text/plain": [
       "<matplotlib.axes._subplots.AxesSubplot at 0x7f51dd7fe410>"
      ]
     },
     "execution_count": 47,
     "metadata": {
      "tags": []
     },
     "output_type": "execute_result"
    },
    {
     "data": {
      "image/png": "[encoded data removed]",
      "text/plain": [
       "<Figure size 432x360 with 1 Axes>"
      ]
     },
     "metadata": {
      "tags": []
     },
     "output_type": "display_data"
    }
   ],
   "source": [
    "plt.figure(figsize = (6,5))\n",
    "plt.xlabel('AGE')\n",
    "plt.ylabel('Number of frauds')\n",
    "plt.grid(True, alpha =0.4)\n",
    "plt.colormaps()\n",
    "(df.groupby('age')['fraud'].mean()*100).plot(kind='bar',grid=True, color='orange')\n",
    "# plotting the bar plot with appropriate parameters"
   ]
  },
  {
   "cell_type": "markdown",
   "metadata": {
    "id": "jEWHNHl4AcHj"
   },
   "source": [
    "The mean within each age category"
   ]
  },
  {
   "cell_type": "code",
   "execution_count": null,
   "metadata": {
    "colab": {
     "base_uri": "https://localhost:8080/",
     "height": 355
    },
    "id": "8rpSZ22k4Y_s",
    "outputId": "9c5ac8b8-5c79-417a-c3f5-945c22c0282f"
   },
   "outputs": [
    {
     "data": {
      "text/plain": [
       "<matplotlib.axes._subplots.AxesSubplot at 0x7f51dd7feed0>"
      ]
     },
     "execution_count": 48,
     "metadata": {
      "tags": []
     },
     "output_type": "execute_result"
    },
    {
     "data": {
      "image/png": "[encoded data removed]",
      "text/plain": [
       "<Figure size 432x360 with 1 Axes>"
      ]
     },
     "metadata": {
      "tags": []
     },
     "output_type": "display_data"
    }
   ],
   "source": [
    "plt.figure(figsize = (6,5))\n",
    "plt.xlabel('AGE')\n",
    "plt.ylabel('Number of frauds')\n",
    "plt.grid(True, alpha =0.4)\n",
    "plt.colormaps()\n",
    "(df.groupby('age')['fraud'].sum()).plot(kind='bar',grid=True, color='orange')\n",
    "# plotting the bar plot with appropriate parameters"
   ]
  },
  {
   "cell_type": "markdown",
   "metadata": {
    "id": "888scuTsAgPM"
   },
   "source": [
    "The number of frauds that occur in each age"
   ]
  },
  {
   "cell_type": "code",
   "execution_count": null,
   "metadata": {
    "colab": {
     "base_uri": "https://localhost:8080/",
     "height": 295
    },
    "id": "3aC8n_YUFuZ5",
    "outputId": "bf3f19a4-5b45-43ab-a39e-71a439daeb92"
   },
   "outputs": [
    {
     "data": {
      "image/png": "[encoded data removed]",
      "text/plain": [
       "<Figure size 432x288 with 1 Axes>"
      ]
     },
     "metadata": {
      "needs_background": "light",
      "tags": []
     },
     "output_type": "display_data"
    }
   ],
   "source": [
    "sns.countplot(x=\"fraud\",data=df)\n",
    "plt.title(\"Count of Fraudulent Payments\")\n",
    "plt.show()\n"
   ]
  },
  {
   "cell_type": "code",
   "execution_count": null,
   "metadata": {
    "colab": {
     "base_uri": "https://localhost:8080/",
     "height": 297
    },
    "id": "6N7D33pw_5vf",
    "outputId": "139328ef-8b00-496a-85f7-59cef9e57366"
   },
   "outputs": [
    {
     "data": {
      "text/plain": [
       "<matplotlib.axes._subplots.AxesSubplot at 0x7f51dd5097d0>"
      ]
     },
     "execution_count": 60,
     "metadata": {
      "tags": []
     },
     "output_type": "execute_result"
    },
    {
     "data": {
      "image/png": "[encoded data removed]",
      "text/plain": [
       "<Figure size 432x288 with 1 Axes>"
      ]
     },
     "metadata": {
      "tags": []
     },
     "output_type": "display_data"
    }
   ],
   "source": [
    "plt.xlabel('Number of frauds')\n",
    "df.groupby('gender')['fraud'].sum().plot(kind = 'barh',legend = True)"
   ]
  },
  {
   "cell_type": "markdown",
   "metadata": {
    "id": "mnO6m7UDArH5"
   },
   "source": [
    "Theres a genger called 'U' (unknown). Since it has no business for analysis, it should be dropped."
   ]
  },
  {
   "cell_type": "markdown",
   "metadata": {
    "id": "nZJkyyfMC9nk"
   },
   "source": [
    "Lets check the distribution for the amount spend for both fraud and not fraud."
   ]
  },
  {
   "cell_type": "code",
   "execution_count": null,
   "metadata": {
    "colab": {
     "base_uri": "https://localhost:8080/",
     "height": 279
    },
    "id": "Sc4NEbT4Aln0",
    "outputId": "41c465e0-d73c-492e-bac7-efb8175715b5"
   },
   "outputs": [
    {
     "data": {
      "image/png": "[encoded data removed]",
      "text/plain": [
       "<Figure size 432x288 with 1 Axes>"
      ]
     },
     "metadata": {
      "tags": []
     },
     "output_type": "display_data"
    }
   ],
   "source": [
    "# plot of histogram (frequency)\n",
    "plt.figure()\n",
    "plt.grid(True, alpha=0.4)\n",
    "plt.xlabel('Amount of money spent')\n",
    "plt.ylabel('Frequency')\n",
    "\n",
    "plt.hist(df.amount[df['fraud'] ==0], bins= 50,log=True)\n",
    "# plt.plot(df.amount[df['fraud'] ==0].value_counts())\n",
    "plt.show()\n",
    "# sns.kdeplot(df.amount[df['fraud'] ==0],shade=True)\n"
   ]
  },
  {
   "cell_type": "code",
   "execution_count": null,
   "metadata": {
    "colab": {
     "base_uri": "https://localhost:8080/",
     "height": 279
    },
    "id": "rKUMeTlqDSAf",
    "outputId": "a26a26e8-7ba4-44bf-f400-f49011dfd31b"
   },
   "outputs": [
    {
     "data": {
      "image/png": "[encoded data removed]",
      "text/plain": [
       "<Figure size 432x288 with 1 Axes>"
      ]
     },
     "metadata": {
      "tags": []
     },
     "output_type": "display_data"
    }
   ],
   "source": [
    "# code for the histogram\n",
    "plt.figure()\n",
    "plt.grid(True, alpha=0.4)\n",
    "plt.xlabel('Amount of money spent')\n",
    "plt.ylabel('Frequency')\n",
    "\n",
    "plt.hist(df.amount[df['fraud'] ==1], bins= 50,log= True)\n",
    "# plt.plot(df.amount[df['fraud'] ==1].value_counts())\n",
    "plt.show()\n",
    "# sns.kdeplot(df.amount[df['fraud'] ==1],shade=True)\n"
   ]
  },
  {
   "cell_type": "markdown",
   "metadata": {
    "id": "1ESKQbXPHCi7"
   },
   "source": [
    "This shows that high amount of transactions happen in case of frauds, as clearly evident by the histogram."
   ]
  },
  {
   "cell_type": "markdown",
   "metadata": {
    "id": "wtAs9d55HcOh"
   },
   "source": [
    "Frauds usually is carried out in the name of luxury expenses in order to cover up high amount of money transaction, lets check this particular hypothesis."
   ]
  },
  {
   "cell_type": "code",
   "execution_count": null,
   "metadata": {
    "colab": {
     "base_uri": "https://localhost:8080/",
     "height": 353
    },
    "id": "iNjVyKluHYyz",
    "outputId": "738810a5-0285-4ae1-9e9e-ca1b61a36fa5"
   },
   "outputs": [
    {
     "data": {
      "image/png": "[encoded data removed]",
      "text/plain": [
       "<Figure size 1080x1080 with 2 Axes>"
      ]
     },
     "metadata": {
      "tags": []
     },
     "output_type": "display_data"
    }
   ],
   "source": [
    "# plt.figure(figsize=(10,10))\n",
    "fig, ax = plt.subplots(1,2,figsize=(15,15))\n",
    "plt.title('')\n",
    "plt.grid(True)\n",
    "ax[0].pie(df.category.value_counts(), labels= df.category.value_counts().keys())\n",
    "ax[1].pie(df.category.value_counts()[1:], labels= df.category.value_counts().keys()[1:])\n",
    "plt.show()\n",
    "\n",
    "# pie charts in subplots for extreme and normal case "
   ]
  },
  {
   "cell_type": "markdown",
   "metadata": {
    "id": "hBz-5LpLMtzn"
   },
   "source": [
    "It seems like the transportation or travelling option contains the highest amount of transactions. <br>\n",
    "the pie plot on the right is after removing the 'transportation' category"
   ]
  },
  {
   "cell_type": "markdown",
   "metadata": {
    "id": "Sm8DuxAUYBHK"
   },
   "source": [
    "checking the amount spent on each category"
   ]
  },
  {
   "cell_type": "code",
   "execution_count": null,
   "metadata": {
    "colab": {
     "base_uri": "https://localhost:8080/",
     "height": 664
    },
    "id": "bzDaDI0CNO40",
    "outputId": "e97fb33c-5d7e-4294-e92a-451de4e2a330"
   },
   "outputs": [
    {
     "name": "stderr",
     "output_type": "stream",
     "text": [
      "/usr/local/lib/python3.7/dist-packages/seaborn/_decorators.py:43: FutureWarning: Pass the following variables as keyword args: x, y. From version 0.12, the only valid positional argument will be `data`, and passing other arguments without an explicit keyword will result in an error or misinterpretation.\n",
      "  FutureWarning\n"
     ]
    },
    {
     "data": {
      "image/png": "[encoded data removed]",
      "text/plain": [
       "<Figure size 1440x648 with 1 Axes>"
      ]
     },
     "metadata": {
      "tags": []
     },
     "output_type": "display_data"
    }
   ],
   "source": [
    "plt.figure(figsize=(20,9))\n",
    "plt.title('Amount spent per category')\n",
    "\n",
    "# plotting a boxplot\n",
    "plt.xticks(rotation=45)\n",
    "sns.boxplot(df.category, df.amount)\n",
    "plt.ylim(0,4000)\n",
    "\n",
    "plt.show()"
   ]
  },
  {
   "cell_type": "markdown",
   "metadata": {
    "id": "oGxODrDTZl7u"
   },
   "source": [
    "Travelling is the most highly purchased 'service' in the simulation."
   ]
  },
  {
   "cell_type": "code",
   "execution_count": null,
   "metadata": {
    "colab": {
     "base_uri": "https://localhost:8080/",
     "height": 425
    },
    "id": "z6Y0I7xkNUqh",
    "outputId": "2207d16d-7c6a-4150-c900-ccebaafb50e6"
   },
   "outputs": [
    {
     "data": {
      "text/plain": [
       "<matplotlib.axes._subplots.AxesSubplot at 0x7f293d1e1e10>"
      ]
     },
     "execution_count": 34,
     "metadata": {
      "tags": []
     },
     "output_type": "execute_result"
    },
    {
     "data": {
      "image/png": "[encoded data removed]",
      "text/plain": [
       "<Figure size 648x432 with 1 Axes>"
      ]
     },
     "metadata": {
      "tags": []
     },
     "output_type": "display_data"
    }
   ],
   "source": [
    "\n",
    "df.groupby(['age','gender'])['amount'].mean().unstack().plot(\n",
    "    kind='bar',figsize=(9,6),\n",
    "    title='Mean amount spent by each gender in each age group',ylabel='Mean amount')"
   ]
  },
  {
   "cell_type": "markdown",
   "metadata": {
    "id": "dXpVaiYza22j"
   },
   "source": [
    "This graph shows the mean amount spent by each gender in each age group"
   ]
  },
  {
   "cell_type": "code",
   "execution_count": null,
   "metadata": {
    "colab": {
     "base_uri": "https://localhost:8080/",
     "height": 425
    },
    "id": "d7pPbLGUaBX3",
    "outputId": "ff76b24c-8b23-4814-e587-ae5fcaf35beb"
   },
   "outputs": [
    {
     "data": {
      "text/plain": [
       "<matplotlib.axes._subplots.AxesSubplot at 0x7f293cdfffd0>"
      ]
     },
     "execution_count": 40,
     "metadata": {
      "tags": []
     },
     "output_type": "execute_result"
    },
    {
     "data": {
      "image/png": "[encoded data removed]",
      "text/plain": [
       "<Figure size 648x432 with 1 Axes>"
      ]
     },
     "metadata": {
      "tags": []
     },
     "output_type": "display_data"
    }
   ],
   "source": [
    "df.groupby(['age','gender'])['fraud'].sum().unstack().plot(\n",
    "    kind='bar', figsize=(9,6),\n",
    "    title='Number of frauds committed by a gender',\n",
    "    ylabel='Number of frauds')"
   ]
  },
  {
   "cell_type": "markdown",
   "metadata": {
    "id": "K9QuxhhIcYuQ"
   },
   "source": [
    "This graph shows the number of fraud by a particular gender."
   ]
  },
  {
   "cell_type": "code",
   "execution_count": null,
   "metadata": {
    "colab": {
     "base_uri": "https://localhost:8080/",
     "height": 283
    },
    "id": "bQt6u4F5bHTq",
    "outputId": "1b9a5f13-9385-4a99-d91a-024b529161bc"
   },
   "outputs": [
    {
     "data": {
      "text/plain": [
       "<matplotlib.collections.PathCollection at 0x7f293cc90990>"
      ]
     },
     "execution_count": 41,
     "metadata": {
      "tags": []
     },
     "output_type": "execute_result"
    },
    {
     "data": {
      "image/png": "[encoded data removed]",
      "text/plain": [
       "<Figure size 432x288 with 1 Axes>"
      ]
     },
     "metadata": {
      "tags": []
     },
     "output_type": "display_data"
    }
   ],
   "source": [
    "plt.scatter(df.amount, df.category)"
   ]
  },
  {
   "cell_type": "code",
   "execution_count": null,
   "metadata": {
    "colab": {
     "base_uri": "https://localhost:8080/",
     "height": 206
    },
    "id": "ICmY-nBNe2G-",
    "outputId": "6095444e-b3f0-4e64-8135-56c9672561ce"
   },
   "outputs": [
    {
     "data": {
      "text/html": [
       "<div>\n",
       "<style scoped>\n",
       "    .dataframe tbody tr th:only-of-type {\n",
       "        vertical-align: middle;\n",
       "    }\n",
       "\n",
       "    .dataframe tbody tr th {\n",
       "        vertical-align: top;\n",
       "    }\n",
       "\n",
       "    .dataframe thead th {\n",
       "        text-align: right;\n",
       "    }\n",
       "</style>\n",
       "<table border=\"1\" class=\"dataframe\">\n",
       "  <thead>\n",
       "    <tr style=\"text-align: right;\">\n",
       "      <th></th>\n",
       "      <th>step</th>\n",
       "      <th>customer</th>\n",
       "      <th>age</th>\n",
       "      <th>gender</th>\n",
       "      <th>zipcodeOri</th>\n",
       "      <th>merchant</th>\n",
       "      <th>zipMerchant</th>\n",
       "      <th>category</th>\n",
       "      <th>amount</th>\n",
       "      <th>fraud</th>\n",
       "    </tr>\n",
       "  </thead>\n",
       "  <tbody>\n",
       "    <tr>\n",
       "      <th>0</th>\n",
       "      <td>0</td>\n",
       "      <td>'C1093826151'</td>\n",
       "      <td>'4'</td>\n",
       "      <td>'M'</td>\n",
       "      <td>'28007'</td>\n",
       "      <td>'M348934600'</td>\n",
       "      <td>'28007'</td>\n",
       "      <td>'es_transportation'</td>\n",
       "      <td>4.55</td>\n",
       "      <td>0</td>\n",
       "    </tr>\n",
       "    <tr>\n",
       "      <th>1</th>\n",
       "      <td>0</td>\n",
       "      <td>'C352968107'</td>\n",
       "      <td>'2'</td>\n",
       "      <td>'M'</td>\n",
       "      <td>'28007'</td>\n",
       "      <td>'M348934600'</td>\n",
       "      <td>'28007'</td>\n",
       "      <td>'es_transportation'</td>\n",
       "      <td>39.68</td>\n",
       "      <td>0</td>\n",
       "    </tr>\n",
       "    <tr>\n",
       "      <th>2</th>\n",
       "      <td>0</td>\n",
       "      <td>'C2054744914'</td>\n",
       "      <td>'4'</td>\n",
       "      <td>'F'</td>\n",
       "      <td>'28007'</td>\n",
       "      <td>'M1823072687'</td>\n",
       "      <td>'28007'</td>\n",
       "      <td>'es_transportation'</td>\n",
       "      <td>26.89</td>\n",
       "      <td>0</td>\n",
       "    </tr>\n",
       "    <tr>\n",
       "      <th>3</th>\n",
       "      <td>0</td>\n",
       "      <td>'C1760612790'</td>\n",
       "      <td>'3'</td>\n",
       "      <td>'M'</td>\n",
       "      <td>'28007'</td>\n",
       "      <td>'M348934600'</td>\n",
       "      <td>'28007'</td>\n",
       "      <td>'es_transportation'</td>\n",
       "      <td>17.25</td>\n",
       "      <td>0</td>\n",
       "    </tr>\n",
       "    <tr>\n",
       "      <th>4</th>\n",
       "      <td>0</td>\n",
       "      <td>'C757503768'</td>\n",
       "      <td>'5'</td>\n",
       "      <td>'M'</td>\n",
       "      <td>'28007'</td>\n",
       "      <td>'M348934600'</td>\n",
       "      <td>'28007'</td>\n",
       "      <td>'es_transportation'</td>\n",
       "      <td>35.72</td>\n",
       "      <td>0</td>\n",
       "    </tr>\n",
       "  </tbody>\n",
       "</table>\n",
       "</div>"
      ],
      "text/plain": [
       "   step       customer  age  ...             category amount fraud\n",
       "0     0  'C1093826151'  '4'  ...  'es_transportation'   4.55     0\n",
       "1     0   'C352968107'  '2'  ...  'es_transportation'  39.68     0\n",
       "2     0  'C2054744914'  '4'  ...  'es_transportation'  26.89     0\n",
       "3     0  'C1760612790'  '3'  ...  'es_transportation'  17.25     0\n",
       "4     0   'C757503768'  '5'  ...  'es_transportation'  35.72     0\n",
       "\n",
       "[5 rows x 10 columns]"
      ]
     },
     "execution_count": 43,
     "metadata": {
      "tags": []
     },
     "output_type": "execute_result"
    }
   ],
   "source": [
    "df.head()"
   ]
  },
  {
   "cell_type": "code",
   "execution_count": null,
   "metadata": {
    "id": "aoUS2Yqkg6fO"
   },
   "outputs": [],
   "source": [
    "male_df = df[df['gender']==\"'M'\"]"
   ]
  },
  {
   "cell_type": "markdown",
   "metadata": {
    "id": "XBjYoD9Ihfht"
   },
   "source": [
    "\n",
    "segragating the genders"
   ]
  },
  {
   "cell_type": "code",
   "execution_count": null,
   "metadata": {
    "id": "Og0qtmPThWgi"
   },
   "outputs": [],
   "source": [
    "fmale_df = df[df['gender']==\"'F'\"]"
   ]
  },
  {
   "cell_type": "code",
   "execution_count": null,
   "metadata": {
    "colab": {
     "base_uri": "https://localhost:8080/"
    },
    "id": "W9FXwkIchDX5",
    "outputId": "a755bf74-8db8-4b85-e683-effe2d1d6af6"
   },
   "outputs": [
    {
     "data": {
      "text/plain": [
       "array([\"'es_transportation'\", \"'es_health'\", \"'es_otherservices'\",\n",
       "       \"'es_food'\", \"'es_hotelservices'\", \"'es_barsandrestaurants'\",\n",
       "       \"'es_tech'\", \"'es_sportsandtoys'\", \"'es_wellnessandbeauty'\",\n",
       "       \"'es_hyper'\", \"'es_fashion'\", \"'es_home'\", \"'es_contents'\",\n",
       "       \"'es_travel'\", \"'es_leisure'\"], dtype=object)"
      ]
     },
     "execution_count": 187,
     "metadata": {
      "tags": []
     },
     "output_type": "execute_result"
    }
   ],
   "source": [
    "df.category.unique()\n",
    "# all the categories to spend on"
   ]
  },
  {
   "cell_type": "code",
   "execution_count": null,
   "metadata": {
    "id": "UBL9yaCec2_A"
   },
   "outputs": [],
   "source": [
    "labels = df.category.unique()\n",
    "men_means = []\n",
    "women_means = []\n",
    "# empty lists to store the mean value of each category\n",
    "for i in labels:\n",
    "  men_means.append(male_df.amount[df.category==i].mean())\n",
    "  women_means.append(fmale_df.amount[df.category==i].mean())\n",
    "  # appending the mean values in the list with respect to the category\n"
   ]
  },
  {
   "cell_type": "code",
   "execution_count": null,
   "metadata": {
    "colab": {
     "base_uri": "https://localhost:8080/",
     "height": 351
    },
    "id": "bUPbKv3ehuDa",
    "outputId": "8c4eb8ea-4921-4410-b5c0-0e2a18504fbf"
   },
   "outputs": [
    {
     "data": {
      "text/plain": [
       "<BarContainer object of 15 artists>"
      ]
     },
     "execution_count": 190,
     "metadata": {
      "tags": []
     },
     "output_type": "execute_result"
    },
    {
     "data": {
      "image/png": "[encoded data removed]",
      "text/plain": [
       "<Figure size 1440x432 with 1 Axes>"
      ]
     },
     "metadata": {
      "needs_background": "light",
      "tags": []
     },
     "output_type": "display_data"
    }
   ],
   "source": [
    "fig, ax = plt.subplots(figsize=(20,6))\n",
    "width = 0.35\n",
    "plt.ylim(0,3000)\n",
    "plt.xticks(rotation= 45)\n",
    "#rotating the x labels to increase readability\n",
    "plt.grid(True)\n",
    "ax.bar(labels, men_means, width, label='Men')\n",
    "ax.bar(labels, women_means, width,  bottom=men_means, label='Women')\n"
   ]
  },
  {
   "cell_type": "markdown",
   "metadata": {
    "id": "w2TG-e4KDZpw"
   },
   "source": [
    "This graph portrays the mean amount of money spent by the female and male genders on different categories"
   ]
  },
  {
   "cell_type": "code",
   "execution_count": null,
   "metadata": {
    "id": "38dSLAhijojn"
   },
   "outputs": [],
   "source": []
  },
  {
   "cell_type": "markdown",
   "metadata": {
    "id": "A2iC8PqDjr0C"
   },
   "source": [
    "filled histogram"
   ]
  },
  {
   "cell_type": "code",
   "execution_count": null,
   "metadata": {
    "id": "r-GGucvee0HY"
   },
   "outputs": [],
   "source": [
    "\n",
    "# def filled_hist(ax, edges, values, bottoms=None, orientation='v',\n",
    "#                 **kwargs):\n",
    "#     \"\"\"\n",
    "#     Draw a histogram as a stepped patch.\n",
    "\n",
    "#     Extra kwargs are passed through to `fill_between`\n",
    "\n",
    "#     Parameters\n",
    "#     ----------\n",
    "#     ax : Axes\n",
    "#         The axes to plot to\n",
    "\n",
    "#     edges : array\n",
    "#         A length n+1 array giving the left edges of each bin and the\n",
    "#         right edge of the last bin.\n",
    "\n",
    "#     values : array\n",
    "#         A length n array of bin counts or values\n",
    "\n",
    "#     bottoms : float or array, optional\n",
    "#         A length n array of the bottom of the bars.  If None, zero is used.\n",
    "\n",
    "#     orientation : {'v', 'h'}\n",
    "#        Orientation of the histogram.  'v' (default) has\n",
    "#        the bars increasing in the positive y-direction.\n",
    "\n",
    "#     Returns\n",
    "#     -------\n",
    "#     ret : PolyCollection\n",
    "#         Artist added to the Axes\n",
    "#     \"\"\"\n",
    "#     print(orientation)\n",
    "#     if orientation not in 'hv':\n",
    "#         raise ValueError(\"orientation must be in {{'h', 'v'}} \"\n",
    "#                          \"not {o}\".format(o=orientation))\n",
    "\n",
    "#     kwargs.setdefault('step', 'post')\n",
    "#     edges = np.asarray(edges)\n",
    "#     values = np.asarray(values)\n",
    "#     if len(edges) - 1 != len(values):\n",
    "#         raise ValueError('Must provide one more bin edge than value not: '\n",
    "#                          'len(edges): {lb} len(values): {lv}'.format(\n",
    "#                              lb=len(edges), lv=len(values)))\n",
    "\n",
    "#     if bottoms is None:\n",
    "#         bottoms = 0\n",
    "#     bottoms = np.broadcast_to(bottoms, values.shape)\n",
    "\n",
    "#     values = np.append(values, values[-1])\n",
    "#     bottoms = np.append(bottoms, bottoms[-1])\n",
    "#     if orientation == 'h':\n",
    "#         return ax.fill_betweenx(edges, values, bottoms,\n",
    "#                                 **kwargs)\n",
    "#     elif orientation == 'v':\n",
    "#         return ax.fill_between(edges, values, bottoms,\n",
    "#                                **kwargs)\n",
    "#     else:\n",
    "#         raise AssertionError(\"you should never be here\")\n"
   ]
  },
  {
   "cell_type": "code",
   "execution_count": null,
   "metadata": {
    "id": "8EJK9EKwG0mr"
   },
   "outputs": [],
   "source": [
    "high = df[df['amount']>=250]\n",
    "low = df[df['amount']<250]"
   ]
  },
  {
   "cell_type": "code",
   "execution_count": null,
   "metadata": {
    "colab": {
     "base_uri": "https://localhost:8080/",
     "height": 368
    },
    "id": "reyuYc3XG_36",
    "outputId": "7ed3ec41-df37-4897-d45a-4f37727b49ff"
   },
   "outputs": [
    {
     "data": {
      "text/plain": [
       "<matplotlib.axes._subplots.AxesSubplot at 0x7f753f88a7d0>"
      ]
     },
     "execution_count": 48,
     "metadata": {
      "tags": []
     },
     "output_type": "execute_result"
    },
    {
     "data": {
      "image/png": "[encoded data removed]",
      "text/plain": [
       "<Figure size 1080x360 with 2 Axes>"
      ]
     },
     "metadata": {
      "tags": []
     },
     "output_type": "display_data"
    }
   ],
   "source": [
    "fig, ax = plt.subplots(1,2, figsize = (15,5))\n",
    "\n",
    "ax[0].set_title('Amount more than 250$')\n",
    "sns.countplot(x=high.fraud, ax=ax[0])\n",
    "ax[1].set_title('Amount less than 250$')\n",
    "sns.countplot(x=low.fraud, ax= ax[1])"
   ]
  },
  {
   "cell_type": "markdown",
   "metadata": {
    "id": "uS2KVSBiJe28"
   },
   "source": [
    "This clearly shows that the fraud transactions are not a joke and the cons are only after a big sum of money"
   ]
  },
  {
   "cell_type": "markdown",
   "metadata": {
    "id": "PWvLeqIcjyAB"
   },
   "source": [
    "# Preprocessing the data"
   ]
  },
  {
   "cell_type": "markdown",
   "metadata": {
    "id": "3fSAAnPSDrA-"
   },
   "source": [
    "First of all, the removal of zipcodes is necessary since the model won't learn anything from it. "
   ]
  },
  {
   "cell_type": "code",
   "execution_count": null,
   "metadata": {
    "id": "u7bT8t--Br4p"
   },
   "outputs": [],
   "source": [
    "df.drop(['zipcodeOri','zipMerchant'],1 ,inplace=True)\n",
    "#dropping the zip codes column"
   ]
  },
  {
   "cell_type": "code",
   "execution_count": null,
   "metadata": {
    "colab": {
     "base_uri": "https://localhost:8080/",
     "height": 206
    },
    "id": "s-L0MyXCFNNW",
    "outputId": "118ac70a-0e24-4678-bcdc-f3a5b5e6d8c5"
   },
   "outputs": [
    {
     "data": {
      "text/html": [
       "<div>\n",
       "<style scoped>\n",
       "    .dataframe tbody tr th:only-of-type {\n",
       "        vertical-align: middle;\n",
       "    }\n",
       "\n",
       "    .dataframe tbody tr th {\n",
       "        vertical-align: top;\n",
       "    }\n",
       "\n",
       "    .dataframe thead th {\n",
       "        text-align: right;\n",
       "    }\n",
       "</style>\n",
       "<table border=\"1\" class=\"dataframe\">\n",
       "  <thead>\n",
       "    <tr style=\"text-align: right;\">\n",
       "      <th></th>\n",
       "      <th>step</th>\n",
       "      <th>customer</th>\n",
       "      <th>age</th>\n",
       "      <th>gender</th>\n",
       "      <th>merchant</th>\n",
       "      <th>category</th>\n",
       "      <th>amount</th>\n",
       "      <th>fraud</th>\n",
       "    </tr>\n",
       "  </thead>\n",
       "  <tbody>\n",
       "    <tr>\n",
       "      <th>0</th>\n",
       "      <td>0</td>\n",
       "      <td>'C1093826151'</td>\n",
       "      <td>'4'</td>\n",
       "      <td>'M'</td>\n",
       "      <td>'M348934600'</td>\n",
       "      <td>'es_transportation'</td>\n",
       "      <td>4.55</td>\n",
       "      <td>0</td>\n",
       "    </tr>\n",
       "    <tr>\n",
       "      <th>1</th>\n",
       "      <td>0</td>\n",
       "      <td>'C352968107'</td>\n",
       "      <td>'2'</td>\n",
       "      <td>'M'</td>\n",
       "      <td>'M348934600'</td>\n",
       "      <td>'es_transportation'</td>\n",
       "      <td>39.68</td>\n",
       "      <td>0</td>\n",
       "    </tr>\n",
       "    <tr>\n",
       "      <th>2</th>\n",
       "      <td>0</td>\n",
       "      <td>'C2054744914'</td>\n",
       "      <td>'4'</td>\n",
       "      <td>'F'</td>\n",
       "      <td>'M1823072687'</td>\n",
       "      <td>'es_transportation'</td>\n",
       "      <td>26.89</td>\n",
       "      <td>0</td>\n",
       "    </tr>\n",
       "    <tr>\n",
       "      <th>3</th>\n",
       "      <td>0</td>\n",
       "      <td>'C1760612790'</td>\n",
       "      <td>'3'</td>\n",
       "      <td>'M'</td>\n",
       "      <td>'M348934600'</td>\n",
       "      <td>'es_transportation'</td>\n",
       "      <td>17.25</td>\n",
       "      <td>0</td>\n",
       "    </tr>\n",
       "    <tr>\n",
       "      <th>4</th>\n",
       "      <td>0</td>\n",
       "      <td>'C757503768'</td>\n",
       "      <td>'5'</td>\n",
       "      <td>'M'</td>\n",
       "      <td>'M348934600'</td>\n",
       "      <td>'es_transportation'</td>\n",
       "      <td>35.72</td>\n",
       "      <td>0</td>\n",
       "    </tr>\n",
       "  </tbody>\n",
       "</table>\n",
       "</div>"
      ],
      "text/plain": [
       "   step       customer  age  ...             category amount fraud\n",
       "0     0  'C1093826151'  '4'  ...  'es_transportation'   4.55     0\n",
       "1     0   'C352968107'  '2'  ...  'es_transportation'  39.68     0\n",
       "2     0  'C2054744914'  '4'  ...  'es_transportation'  26.89     0\n",
       "3     0  'C1760612790'  '3'  ...  'es_transportation'  17.25     0\n",
       "4     0   'C757503768'  '5'  ...  'es_transportation'  35.72     0\n",
       "\n",
       "[5 rows x 8 columns]"
      ]
     },
     "execution_count": 7,
     "metadata": {
      "tags": []
     },
     "output_type": "execute_result"
    }
   ],
   "source": [
    "df.head()"
   ]
  },
  {
   "cell_type": "code",
   "execution_count": null,
   "metadata": {
    "id": "7MjL_fDoFMS6"
   },
   "outputs": [],
   "source": [
    "# pd.crosstab(df.customer,df.merchant).sum()"
   ]
  },
  {
   "cell_type": "markdown",
   "metadata": {
    "id": "CmBoe8rDW_gP"
   },
   "source": [
    "## Side vis for inference"
   ]
  },
  {
   "cell_type": "code",
   "execution_count": null,
   "metadata": {
    "colab": {
     "base_uri": "https://localhost:8080/",
     "height": 267
    },
    "id": "CAvykcZLFMQO",
    "outputId": "fbdec5c5-65f0-4ddb-a1ad-ab7bdc6a70cc"
   },
   "outputs": [
    {
     "data": {
      "image/png": "[encoded data removed]",
      "text/plain": [
       "<Figure size 432x288 with 1 Axes>"
      ]
     },
     "metadata": {
      "tags": []
     },
     "output_type": "display_data"
    }
   ],
   "source": [
    "plt.hist(df.step, bins=20)\n",
    "plt.show()"
   ]
  },
  {
   "cell_type": "code",
   "execution_count": null,
   "metadata": {
    "colab": {
     "base_uri": "https://localhost:8080/"
    },
    "id": "sF5Dk7WDGn6S",
    "outputId": "774e0f0f-34e7-455c-9a36-0d5e325f5ff5"
   },
   "outputs": [
    {
     "data": {
      "text/plain": [
       "3822671.1700000004"
      ]
     },
     "execution_count": 70,
     "metadata": {
      "tags": []
     },
     "output_type": "execute_result"
    }
   ],
   "source": [
    "df.amount[df['fraud']==1].sum()"
   ]
  },
  {
   "cell_type": "code",
   "execution_count": null,
   "metadata": {
    "colab": {
     "base_uri": "https://localhost:8080/"
    },
    "id": "x9FWflfsNa08",
    "outputId": "dd343059-09a9-42ea-b7c2-7c882a60174f"
   },
   "outputs": [
    {
     "data": {
      "text/plain": [
       "18708432.559999995"
      ]
     },
     "execution_count": 71,
     "metadata": {
      "tags": []
     },
     "output_type": "execute_result"
    }
   ],
   "source": [
    "df.amount[df['fraud']==0].sum()"
   ]
  },
  {
   "cell_type": "code",
   "execution_count": null,
   "metadata": {
    "colab": {
     "base_uri": "https://localhost:8080/",
     "height": 311
    },
    "id": "OQR3NN9S2b48",
    "outputId": "eecdc825-0b53-4017-a5cd-55baf0cbfa15"
   },
   "outputs": [
    {
     "data": {
      "text/plain": [
       "<matplotlib.axes._subplots.AxesSubplot at 0x7f373ebe3550>"
      ]
     },
     "execution_count": 85,
     "metadata": {
      "tags": []
     },
     "output_type": "execute_result"
    },
    {
     "data": {
      "image/png": "[encoded data removed]",
      "text/plain": [
       "<Figure size 432x288 with 1 Axes>"
      ]
     },
     "metadata": {
      "needs_background": "light",
      "tags": []
     },
     "output_type": "display_data"
    }
   ],
   "source": [
    "df.groupby('fraud')['amount'].sum().plot(kind='bar',title='Money spent in both cases')"
   ]
  },
  {
   "cell_type": "code",
   "execution_count": null,
   "metadata": {
    "colab": {
     "base_uri": "https://localhost:8080/",
     "height": 283
    },
    "id": "KpHScJd1PggK",
    "outputId": "f1de1b31-4941-41e6-e569-e1720599f81b"
   },
   "outputs": [
    {
     "data": {
      "text/plain": [
       "[<matplotlib.lines.Line2D at 0x7f753e950550>]"
      ]
     },
     "execution_count": 80,
     "metadata": {
      "tags": []
     },
     "output_type": "execute_result"
    },
    {
     "data": {
      "image/png": "[encoded data removed]",
      "text/plain": [
       "<Figure size 432x288 with 1 Axes>"
      ]
     },
     "metadata": {
      "tags": []
     },
     "output_type": "display_data"
    }
   ],
   "source": [
    "plt.plot(df['amount'][(df['fraud']==0) & (df['amount']>500)].sort_values().values, \n",
    "         range(len(df['amount'][(df['fraud']==0) & (df['amount']>500)].sort_values().values)))"
   ]
  },
  {
   "cell_type": "code",
   "execution_count": null,
   "metadata": {
    "colab": {
     "base_uri": "https://localhost:8080/",
     "height": 283
    },
    "id": "vpsnrc2fPgbo",
    "outputId": "17fe34a3-b27f-4f71-b4ab-9a252d1431f8"
   },
   "outputs": [
    {
     "data": {
      "text/plain": [
       "[<matplotlib.lines.Line2D at 0x7fb60fb35750>]"
      ]
     },
     "execution_count": 8,
     "metadata": {
      "tags": []
     },
     "output_type": "execute_result"
    },
    {
     "data": {
      "image/png": "[encoded data removed]",
      "text/plain": [
       "<Figure size 432x288 with 1 Axes>"
      ]
     },
     "metadata": {
      "tags": []
     },
     "output_type": "display_data"
    }
   ],
   "source": [
    "plt.plot(df['amount'][(df['fraud']==1) & (df['amount']>700)].sort_values().values, \n",
    "         range(len(df['amount'][(df['fraud']==1) & (df['amount']>700)].sort_values().values)))"
   ]
  },
  {
   "cell_type": "markdown",
   "metadata": {
    "id": "9Tpq1pm1XF48"
   },
   "source": [
    "## Splitting the data for training and testing"
   ]
  },
  {
   "cell_type": "code",
   "execution_count": null,
   "metadata": {
    "id": "lluPtUe962i1"
   },
   "outputs": [],
   "source": [
    "X= df.drop('fraud',1)\n",
    "y=df['fraud']"
   ]
  },
  {
   "cell_type": "code",
   "execution_count": null,
   "metadata": {
    "id": "xoGvoAcR8_vc"
   },
   "outputs": [],
   "source": [
    "from sklearn.preprocessing import LabelEncoder, StandardScaler\n",
    "from sklearn.model_selection import train_test_split as tts"
   ]
  },
  {
   "cell_type": "code",
   "execution_count": null,
   "metadata": {
    "id": "QhQ3Muaw42HB"
   },
   "outputs": [],
   "source": [
    "import warnings\n",
    "warnings.filterwarnings('ignore')"
   ]
  },
  {
   "cell_type": "code",
   "execution_count": null,
   "metadata": {
    "id": "GS-xjjn58-SP"
   },
   "outputs": [],
   "source": [
    "X_train, X_test, y_train, y_test = tts(X,y, \n",
    "                                       test_size = .2,\n",
    "                                       random_state= 42,\n",
    "                                       stratify = y)\n",
    "# splitting the data into train and test sets"
   ]
  },
  {
   "cell_type": "code",
   "execution_count": null,
   "metadata": {
    "id": "yOSSVxaC4NZl"
   },
   "outputs": [],
   "source": [
    "num = list(X_train.select_dtypes(include='number'))\n",
    "ss = StandardScaler()\n",
    "for i in num:\n",
    "  X_train[[i]]= ss.fit_transform(X_train[[i]])\n",
    "  X_test[[i]]= ss.transform(X_test[[i]])"
   ]
  },
  {
   "cell_type": "code",
   "execution_count": null,
   "metadata": {
    "id": "em_Auu1J70dN"
   },
   "outputs": [],
   "source": [
    "# label encoding the categorical variables\n",
    "cat_train = X_train.select_dtypes(exclude='number')\n",
    "cat_test = X_test.select_dtypes(exclude='number')\n",
    "\n",
    "# also fitting train set before transforming test set \n",
    "# to avoid data leakage\n",
    "\n",
    "le = LabelEncoder()\n",
    "for i in list(cat_train):\n",
    "  X_train[i] = le.fit_transform(X_train[i])\n",
    "  X_test[i] = le.transform(X_test[i])\n"
   ]
  },
  {
   "cell_type": "code",
   "execution_count": null,
   "metadata": {
    "colab": {
     "base_uri": "https://localhost:8080/",
     "height": 424
    },
    "id": "T2FyIKII5DjK",
    "outputId": "9fc9c1a3-a0d3-4580-d9ac-5dbdc5cf56d9"
   },
   "outputs": [
    {
     "data": {
      "text/html": [
       "<div>\n",
       "<style scoped>\n",
       "    .dataframe tbody tr th:only-of-type {\n",
       "        vertical-align: middle;\n",
       "    }\n",
       "\n",
       "    .dataframe tbody tr th {\n",
       "        vertical-align: top;\n",
       "    }\n",
       "\n",
       "    .dataframe thead th {\n",
       "        text-align: right;\n",
       "    }\n",
       "</style>\n",
       "<table border=\"1\" class=\"dataframe\">\n",
       "  <thead>\n",
       "    <tr style=\"text-align: right;\">\n",
       "      <th></th>\n",
       "      <th>step</th>\n",
       "      <th>customer</th>\n",
       "      <th>age</th>\n",
       "      <th>gender</th>\n",
       "      <th>merchant</th>\n",
       "      <th>category</th>\n",
       "      <th>amount</th>\n",
       "    </tr>\n",
       "  </thead>\n",
       "  <tbody>\n",
       "    <tr>\n",
       "      <th>296209</th>\n",
       "      <td>97</td>\n",
       "      <td>2199</td>\n",
       "      <td>2</td>\n",
       "      <td>1</td>\n",
       "      <td>18</td>\n",
       "      <td>12</td>\n",
       "      <td>19.01</td>\n",
       "    </tr>\n",
       "    <tr>\n",
       "      <th>329958</th>\n",
       "      <td>107</td>\n",
       "      <td>217</td>\n",
       "      <td>2</td>\n",
       "      <td>1</td>\n",
       "      <td>30</td>\n",
       "      <td>12</td>\n",
       "      <td>26.98</td>\n",
       "    </tr>\n",
       "    <tr>\n",
       "      <th>394447</th>\n",
       "      <td>125</td>\n",
       "      <td>1344</td>\n",
       "      <td>2</td>\n",
       "      <td>1</td>\n",
       "      <td>18</td>\n",
       "      <td>12</td>\n",
       "      <td>22.60</td>\n",
       "    </tr>\n",
       "    <tr>\n",
       "      <th>588673</th>\n",
       "      <td>178</td>\n",
       "      <td>615</td>\n",
       "      <td>5</td>\n",
       "      <td>1</td>\n",
       "      <td>30</td>\n",
       "      <td>12</td>\n",
       "      <td>7.25</td>\n",
       "    </tr>\n",
       "    <tr>\n",
       "      <th>139286</th>\n",
       "      <td>49</td>\n",
       "      <td>2998</td>\n",
       "      <td>3</td>\n",
       "      <td>1</td>\n",
       "      <td>18</td>\n",
       "      <td>12</td>\n",
       "      <td>18.42</td>\n",
       "    </tr>\n",
       "    <tr>\n",
       "      <th>...</th>\n",
       "      <td>...</td>\n",
       "      <td>...</td>\n",
       "      <td>...</td>\n",
       "      <td>...</td>\n",
       "      <td>...</td>\n",
       "      <td>...</td>\n",
       "      <td>...</td>\n",
       "    </tr>\n",
       "    <tr>\n",
       "      <th>52982</th>\n",
       "      <td>20</td>\n",
       "      <td>1674</td>\n",
       "      <td>2</td>\n",
       "      <td>1</td>\n",
       "      <td>30</td>\n",
       "      <td>12</td>\n",
       "      <td>11.56</td>\n",
       "    </tr>\n",
       "    <tr>\n",
       "      <th>219940</th>\n",
       "      <td>74</td>\n",
       "      <td>154</td>\n",
       "      <td>4</td>\n",
       "      <td>1</td>\n",
       "      <td>45</td>\n",
       "      <td>3</td>\n",
       "      <td>27.88</td>\n",
       "    </tr>\n",
       "    <tr>\n",
       "      <th>20419</th>\n",
       "      <td>8</td>\n",
       "      <td>977</td>\n",
       "      <td>3</td>\n",
       "      <td>2</td>\n",
       "      <td>18</td>\n",
       "      <td>12</td>\n",
       "      <td>31.59</td>\n",
       "    </tr>\n",
       "    <tr>\n",
       "      <th>497957</th>\n",
       "      <td>153</td>\n",
       "      <td>2539</td>\n",
       "      <td>6</td>\n",
       "      <td>2</td>\n",
       "      <td>45</td>\n",
       "      <td>3</td>\n",
       "      <td>3.77</td>\n",
       "    </tr>\n",
       "    <tr>\n",
       "      <th>86851</th>\n",
       "      <td>32</td>\n",
       "      <td>2270</td>\n",
       "      <td>2</td>\n",
       "      <td>1</td>\n",
       "      <td>18</td>\n",
       "      <td>12</td>\n",
       "      <td>1.02</td>\n",
       "    </tr>\n",
       "  </tbody>\n",
       "</table>\n",
       "<p>475714 rows × 7 columns</p>\n",
       "</div>"
      ],
      "text/plain": [
       "        step  customer  age  gender  merchant  category  amount\n",
       "296209    97      2199    2       1        18        12   19.01\n",
       "329958   107       217    2       1        30        12   26.98\n",
       "394447   125      1344    2       1        18        12   22.60\n",
       "588673   178       615    5       1        30        12    7.25\n",
       "139286    49      2998    3       1        18        12   18.42\n",
       "...      ...       ...  ...     ...       ...       ...     ...\n",
       "52982     20      1674    2       1        30        12   11.56\n",
       "219940    74       154    4       1        45         3   27.88\n",
       "20419      8       977    3       2        18        12   31.59\n",
       "497957   153      2539    6       2        45         3    3.77\n",
       "86851     32      2270    2       1        18        12    1.02\n",
       "\n",
       "[475714 rows x 7 columns]"
      ]
     },
     "execution_count": 9,
     "metadata": {
      "tags": []
     },
     "output_type": "execute_result"
    }
   ],
   "source": [
    "X_train"
   ]
  },
  {
   "cell_type": "markdown",
   "metadata": {
    "id": "MnKI0ZX0jtnC"
   },
   "source": [
    "# Model building\n",
    "importing the necessary model related and evaluation libraries together"
   ]
  },
  {
   "cell_type": "code",
   "execution_count": null,
   "metadata": {
    "id": "KY3ZycGZACgA"
   },
   "outputs": [],
   "source": [
    "from sklearn.linear_model import LogisticRegression\n",
    "from sklearn.ensemble import RandomForestClassifier\n",
    "from xgboost import XGBClassifier\n",
    "from sklearn.svm import SVC\n",
    "from sklearn.model_selection import RandomizedSearchCV\n",
    "from pprint import pprint\n",
    "\n",
    "from sklearn.metrics import accuracy_score, classification_report, confusion_matrix\n",
    "from sklearn.metrics import plot_confusion_matrix, roc_auc_score,roc_curve,auc"
   ]
  },
  {
   "cell_type": "markdown",
   "metadata": {
    "id": "vRFHW5z2BjNz"
   },
   "source": [
    "## Logistic regression"
   ]
  },
  {
   "cell_type": "markdown",
   "metadata": {
    "id": "0au8yd1PBl_T"
   },
   "source": [
    "###Code"
   ]
  },
  {
   "cell_type": "code",
   "execution_count": null,
   "metadata": {
    "colab": {
     "base_uri": "https://localhost:8080/"
    },
    "id": "3P9t4FJTBiqN",
    "outputId": "bf6c6154-99aa-459d-a8be-40b2c3968273"
   },
   "outputs": [
    {
     "name": "stderr",
     "output_type": "stream",
     "text": [
      "/usr/local/lib/python3.7/dist-packages/sklearn/linear_model/_sag.py:330: ConvergenceWarning: The max_iter was reached which means the coef_ did not converge\n",
      "  \"the coef_ did not converge\", ConvergenceWarning)\n"
     ]
    },
    {
     "name": "stdout",
     "output_type": "stream",
     "text": [
      "              precision    recall  f1-score   support\n",
      "\n",
      "           0       1.00      0.94      0.97    117489\n",
      "           1       0.15      0.87      0.26      1440\n",
      "\n",
      "    accuracy                           0.94    118929\n",
      "   macro avg       0.57      0.91      0.61    118929\n",
      "weighted avg       0.99      0.94      0.96    118929\n",
      "\n"
     ]
    }
   ],
   "source": [
    "logi = LogisticRegression(penalty='elasticnet',\n",
    "                          class_weight='balanced',n_jobs=-1,\n",
    "                          solver='saga',l1_ratio=0.5)\n",
    "\n",
    "logi.fit(X_train,y_train)\n",
    "\n",
    "y_pred = logi.predict(X_test)\n",
    "\n",
    "print(classification_report(y_test, y_pred))"
   ]
  },
  {
   "cell_type": "code",
   "execution_count": null,
   "metadata": {
    "colab": {
     "base_uri": "https://localhost:8080/"
    },
    "id": "sPSk7RclCim0",
    "outputId": "b224e960-7cf5-4593-c0a3-9aa0b489e177"
   },
   "outputs": [
    {
     "name": "stdout",
     "output_type": "stream",
     "text": [
      "0.9386776984587443\n"
     ]
    }
   ],
   "source": [
    "print(accuracy_score(y_test, y_pred))"
   ]
  },
  {
   "cell_type": "markdown",
   "metadata": {
    "id": "-UVDDgI9BoXN"
   },
   "source": [
    "### Accuracy evaluation"
   ]
  },
  {
   "cell_type": "code",
   "execution_count": null,
   "metadata": {
    "colab": {
     "base_uri": "https://localhost:8080/",
     "height": 295
    },
    "id": "Gnenev9hBint",
    "outputId": "55f03e7b-aadb-4f90-a4d1-eddec8c1a8c2"
   },
   "outputs": [
    {
     "data": {
      "image/png": "[encoded data removed]",
      "text/plain": [
       "<Figure size 432x288 with 1 Axes>"
      ]
     },
     "metadata": {
      "tags": []
     },
     "output_type": "display_data"
    }
   ],
   "source": [
    "# roc_auc_score(y_true, y_score) the 2nd parameter should be probability estimates of the positive class\n",
    "# not the predicted outputs\n",
    "train_fpr, train_tpr, thresholds = roc_curve(y_train, y_score= logi.predict_proba(X_train)[:,1])\n",
    "test_fpr, test_tpr, thresholds = roc_curve(y_test, logi.predict_proba(X_test)[:,1])\n",
    "\n",
    "plt.plot(train_fpr, train_tpr, label=\"train AUC =\"+str(auc(train_fpr, train_tpr)),color='blue')\n",
    "plt.plot(test_fpr, test_tpr, label=\"test AUC =\"+str(auc(test_fpr, test_tpr)), color='green')\n",
    "plt.grid(True)\n",
    "plt.xlabel(\"False Positive Rate\")\n",
    "plt.ylabel(\"True Positive Rate\")\n",
    "plt.title(\"ROC Curve\")\n",
    "plt.plot([0, 1], [0, 1],'k--', label = \"50%\")\n",
    "plt.legend()\n",
    "\n",
    "plt.xlim([0, 1])\n",
    "plt.ylim([0, 1])\n",
    "plt.show()"
   ]
  },
  {
   "cell_type": "code",
   "execution_count": null,
   "metadata": {
    "colab": {
     "base_uri": "https://localhost:8080/",
     "height": 297
    },
    "id": "0N3s8tQfBilF",
    "outputId": "d14028be-c85a-487b-fe6e-dfe5d668796a"
   },
   "outputs": [
    {
     "data": {
      "text/plain": [
       "<sklearn.metrics._plot.confusion_matrix.ConfusionMatrixDisplay at 0x7fb5fcc03790>"
      ]
     },
     "execution_count": 47,
     "metadata": {
      "tags": []
     },
     "output_type": "execute_result"
    },
    {
     "data": {
      "image/png": "[encoded data removed]",
      "text/plain": [
       "<Figure size 432x288 with 2 Axes>"
      ]
     },
     "metadata": {
      "tags": []
     },
     "output_type": "display_data"
    }
   ],
   "source": [
    " plot_confusion_matrix(logi, X_test, y_test, normalize = 'true')"
   ]
  },
  {
   "cell_type": "markdown",
   "metadata": {
    "id": "6Eb5U1rvHbQ_"
   },
   "source": [
    "## Random forest (simple)"
   ]
  },
  {
   "cell_type": "code",
   "execution_count": null,
   "metadata": {
    "id": "SxxApN3FHfXP"
   },
   "outputs": [],
   "source": [
    "rf = RandomForestClassifier(n_estimators= 10)\n",
    "\n",
    "rf.fit(X_train, y_train)\n",
    "\n",
    "preds = rf.predict(X_test)"
   ]
  },
  {
   "cell_type": "code",
   "execution_count": null,
   "metadata": {
    "colab": {
     "base_uri": "https://localhost:8080/"
    },
    "id": "usSFvN6CHxGg",
    "outputId": "d570998a-45a5-47d3-af67-0174de6aced7"
   },
   "outputs": [
    {
     "name": "stdout",
     "output_type": "stream",
     "text": [
      "              precision    recall  f1-score   support\n",
      "\n",
      "           0       1.00      1.00      1.00    117489\n",
      "           1       0.89      0.72      0.80      1440\n",
      "\n",
      "    accuracy                           1.00    118929\n",
      "   macro avg       0.94      0.86      0.90    118929\n",
      "weighted avg       1.00      1.00      1.00    118929\n",
      "\n",
      "0.9955519679808962\n"
     ]
    }
   ],
   "source": [
    "print(classification_report(y_test, preds))\n",
    "print(accuracy_score(y_test, preds))"
   ]
  },
  {
   "cell_type": "code",
   "execution_count": null,
   "metadata": {
    "colab": {
     "base_uri": "https://localhost:8080/",
     "height": 295
    },
    "id": "rfcoUNjhHfUr",
    "outputId": "bb24eea2-5db8-4c3a-ae66-52211c76b73c"
   },
   "outputs": [
    {
     "data": {
      "image/png": "[encoded data removed]",
      "text/plain": [
       "<Figure size 432x288 with 1 Axes>"
      ]
     },
     "metadata": {
      "needs_background": "light",
      "tags": []
     },
     "output_type": "display_data"
    }
   ],
   "source": [
    "# roc_auc_score(y_true, y_score) the 2nd parameter should be probability estimates of the positive class\n",
    "# not the predicted outputs\n",
    "train_fpr, train_tpr, thresholds = roc_curve(y_train, y_score= rf.predict_proba(X_train)[:,1])\n",
    "test_fpr, test_tpr, thresholds = roc_curve(y_test, rf.predict_proba(X_test)[:,1])\n",
    "\n",
    "plt.plot(train_fpr, train_tpr, label=\"train AUC =\"+str(auc(train_fpr, train_tpr)),color='blue')\n",
    "plt.plot(test_fpr, test_tpr, label=\"test AUC =\"+str(auc(test_fpr, test_tpr)), color='green')\n",
    "plt.grid(True)\n",
    "plt.xlabel(\"False Positive Rate\")\n",
    "plt.ylabel(\"True Positive Rate\")\n",
    "plt.title(\"ROC Curve\")\n",
    "plt.plot([0, 1], [0, 1],'k--', label = \"50%\")\n",
    "plt.legend()\n",
    "\n",
    "plt.xlim([0, 1])\n",
    "plt.ylim([0, 1])\n",
    "plt.show()"
   ]
  },
  {
   "cell_type": "markdown",
   "metadata": {
    "id": "tbE1dehSF3Vf"
   },
   "source": [
    "## Random Forest (hyper tuned)\n"
   ]
  },
  {
   "cell_type": "markdown",
   "metadata": {
    "id": "0uOHq3QhEhSE"
   },
   "source": [
    "### Code"
   ]
  },
  {
   "cell_type": "code",
   "execution_count": null,
   "metadata": {
    "colab": {
     "base_uri": "https://localhost:8080/"
    },
    "id": "V8D16sb1Biiu",
    "outputId": "9bfd866d-405a-4094-b99a-1a040d9ca312"
   },
   "outputs": [
    {
     "name": "stdout",
     "output_type": "stream",
     "text": [
      "{'bootstrap': [True, False],\n",
      " 'class_weight': ['balanced'],\n",
      " 'max_depth': [5, 10, 15, 20, 25],\n",
      " 'max_features': ['auto', 'sqrt'],\n",
      " 'min_samples_leaf': [1, 2, 4],\n",
      " 'min_samples_split': [2, 5, 10],\n",
      " 'n_estimators': [100, 500, 1000]}\n"
     ]
    }
   ],
   "source": [
    "# Number of trees in random forest\n",
    "# n_estimators = [int(x) for x in np.linspace(start = 200, stop = 2000, num = 6)]\n",
    "n_estimators = [100, 500, 1000]\n",
    "# Number of features to consider at every split\n",
    "max_features = ['auto', 'sqrt']\n",
    "# Maximum number of levels in tree\n",
    "max_depth = [int(x) for x in range(5, 30, 5)]\n",
    "\n",
    "# Minimum number of samples required to split a node\n",
    "min_samples_split = [2, 5, 10]\n",
    "# Minimum number of samples required at each leaf node\n",
    "min_samples_leaf = [1, 2, 4]\n",
    "# Method of selecting samples for training each tree\n",
    "bootstrap = [True, False]\n",
    "# to tackle imbalance of classes\n",
    "classweight=['balanced']\n",
    "\n",
    "# Create the random grid\n",
    "random_grid = {'n_estimators': n_estimators,\n",
    "               'max_features': max_features,\n",
    "               'max_depth': max_depth,\n",
    "               'min_samples_split': min_samples_split,\n",
    "               'min_samples_leaf': min_samples_leaf,\n",
    "               'bootstrap': bootstrap,\n",
    "               'class_weight': classweight}\n",
    "\n",
    "pprint(random_grid)"
   ]
  },
  {
   "cell_type": "code",
   "execution_count": null,
   "metadata": {
    "colab": {
     "background_save": true,
     "base_uri": "https://localhost:8080/"
    },
    "id": "t4Gmn6Z_bHUi",
    "outputId": "08b959ae-5947-47a7-e469-81b341f975c6"
   },
   "outputs": [
    {
     "name": "stdout",
     "output_type": "stream",
     "text": [
      "Fitting 2 folds for each of 50 candidates, totalling 100 fits\n"
     ]
    },
    {
     "name": "stderr",
     "output_type": "stream",
     "text": [
      "[Parallel(n_jobs=-1)]: Using backend LokyBackend with 2 concurrent workers.\n",
      "/usr/local/lib/python3.7/dist-packages/joblib/externals/loky/process_executor.py:691: UserWarning: A worker stopped while some jobs were given to the executor. This can be caused by a too short worker timeout or by a memory leak.\n",
      "  \"timeout or by a memory leak.\", UserWarning\n",
      "[Parallel(n_jobs=-1)]: Done  37 tasks      | elapsed: 50.8min\n",
      "[Parallel(n_jobs=-1)]: Done 100 out of 100 | elapsed: 134.9min finished\n"
     ]
    },
    {
     "data": {
      "text/plain": [
       "RandomizedSearchCV(cv=2, error_score=nan,\n",
       "                   estimator=RandomForestClassifier(bootstrap=True,\n",
       "                                                    ccp_alpha=0.0,\n",
       "                                                    class_weight=None,\n",
       "                                                    criterion='gini',\n",
       "                                                    max_depth=None,\n",
       "                                                    max_features='auto',\n",
       "                                                    max_leaf_nodes=None,\n",
       "                                                    max_samples=None,\n",
       "                                                    min_impurity_decrease=0.0,\n",
       "                                                    min_impurity_split=None,\n",
       "                                                    min_samples_leaf=1,\n",
       "                                                    min_samples_split=2,\n",
       "                                                    min_weight_fraction_leaf=0.0,\n",
       "                                                    n_estimators=100,\n",
       "                                                    n_jobs...\n",
       "                   iid='deprecated', n_iter=50, n_jobs=-1,\n",
       "                   param_distributions={'bootstrap': [True, False],\n",
       "                                        'class_weight': ['balanced'],\n",
       "                                        'max_depth': [5, 10, 15, 20, 25],\n",
       "                                        'max_features': ['auto', 'sqrt'],\n",
       "                                        'min_samples_leaf': [1, 2, 4],\n",
       "                                        'min_samples_split': [2, 5, 10],\n",
       "                                        'n_estimators': [100, 500, 1000]},\n",
       "                   pre_dispatch='2*n_jobs', random_state=None, refit=True,\n",
       "                   return_train_score=False, scoring=None, verbose=2)"
      ]
     },
     "execution_count": 0,
     "metadata": {
      "tags": []
     },
     "output_type": "execute_result"
    }
   ],
   "source": [
    "# Use the random grid to search for best hyperparameters\n",
    "# First create the base model to tune\n",
    "rf = RandomForestClassifier()\n",
    "\n",
    "# Random search of parameters, using 2 fold cross validation, \n",
    "# search across 100 different combinations, and use all available cores\n",
    "rf_random = RandomizedSearchCV(estimator = rf,\n",
    "                               param_distributions = random_grid,\n",
    "                               n_iter = 50,cv=2,\n",
    "                               verbose=2,\n",
    "                               n_jobs = -1)\n",
    "\n",
    "# Fit the random search model\n",
    "rf_random.fit(X_train, y_train)"
   ]
  },
  {
   "cell_type": "code",
   "execution_count": null,
   "metadata": {
    "colab": {
     "base_uri": "https://localhost:8080/"
    },
    "id": "wZ9YG-ObE1fa",
    "outputId": "d464bba2-06b9-4dbf-e612-828f92c044a4"
   },
   "outputs": [
    {
     "data": {
      "text/plain": [
       "RandomForestClassifier(bootstrap=True, ccp_alpha=0.0, class_weight='balanced',\n",
       "                       criterion='gini', max_depth=25, max_features='sqrt',\n",
       "                       max_leaf_nodes=None, max_samples=None,\n",
       "                       min_impurity_decrease=0.0, min_impurity_split=None,\n",
       "                       min_samples_leaf=1, min_samples_split=2,\n",
       "                       min_weight_fraction_leaf=0.0, n_estimators=1000,\n",
       "                       n_jobs=None, oob_score=False, random_state=None,\n",
       "                       verbose=0, warm_start=False)"
      ]
     },
     "execution_count": 18,
     "metadata": {
      "tags": []
     },
     "output_type": "execute_result"
    }
   ],
   "source": [
    "rf_random.best_estimator_\n",
    "#choosing the best estimator from the tuned ones"
   ]
  },
  {
   "cell_type": "code",
   "execution_count": null,
   "metadata": {
    "colab": {
     "base_uri": "https://localhost:8080/"
    },
    "id": "wPLTwUpwE1cV",
    "outputId": "e996b292-221e-4255-eb4e-d5c23de32726"
   },
   "outputs": [
    {
     "data": {
      "text/plain": [
       "{'bootstrap': True,\n",
       " 'class_weight': 'balanced',\n",
       " 'max_depth': 25,\n",
       " 'max_features': 'sqrt',\n",
       " 'min_samples_leaf': 1,\n",
       " 'min_samples_split': 2,\n",
       " 'n_estimators': 1000}"
      ]
     },
     "execution_count": 19,
     "metadata": {
      "tags": []
     },
     "output_type": "execute_result"
    }
   ],
   "source": [
    "rf_random.best_params_\n",
    "# fetching the best parameters for random forest"
   ]
  },
  {
   "cell_type": "code",
   "execution_count": null,
   "metadata": {
    "id": "YXP83oPwE1Zo"
   },
   "outputs": [],
   "source": [
    "random_forest = rf_random.best_estimator_\n",
    "\n",
    "random_forest.fit(X_train, y_train)\n",
    "\n",
    "preds = random_forest.predict(X_test)\n",
    "\n",
    "# fitting the best model"
   ]
  },
  {
   "cell_type": "markdown",
   "metadata": {
    "id": "odm5UdmlEkHt"
   },
   "source": [
    "### Accuracy evaluation"
   ]
  },
  {
   "cell_type": "code",
   "execution_count": null,
   "metadata": {
    "colab": {
     "base_uri": "https://localhost:8080/"
    },
    "id": "MXfOUnQAE1DE",
    "outputId": "54868b9d-1ff7-4e63-8bec-d2f73b160a60"
   },
   "outputs": [
    {
     "name": "stdout",
     "output_type": "stream",
     "text": [
      "              precision    recall  f1-score   support\n",
      "\n",
      "           0       1.00      1.00      1.00    117489\n",
      "           1       0.85      0.76      0.81      1440\n",
      "\n",
      "    accuracy                           1.00    118929\n",
      "   macro avg       0.92      0.88      0.90    118929\n",
      "weighted avg       1.00      1.00      1.00    118929\n",
      "\n",
      "0.9955267428465723\n"
     ]
    }
   ],
   "source": [
    "print(classification_report(y_test, preds))\n",
    "print(accuracy_score(y_test, preds))"
   ]
  },
  {
   "cell_type": "code",
   "execution_count": null,
   "metadata": {
    "colab": {
     "base_uri": "https://localhost:8080/",
     "height": 295
    },
    "id": "AqimaZ5_E1Ac",
    "outputId": "2719a026-6112-44ef-da26-5c1aaaeb615e"
   },
   "outputs": [
    {
     "data": {
      "image/png": "[encoded data removed]",
      "text/plain": [
       "<Figure size 432x288 with 1 Axes>"
      ]
     },
     "metadata": {
      "needs_background": "light",
      "tags": []
     },
     "output_type": "display_data"
    }
   ],
   "source": [
    "# roc_auc_score(y_true, y_score) the 2nd parameter should be probability estimates of the positive class\n",
    "# not the predicted outputs\n",
    "train_fpr, train_tpr, thresholds = roc_curve(y_train, y_score= random_forest.predict_proba(X_train)[:,1])\n",
    "test_fpr, test_tpr, thresholds = roc_curve(y_test, random_forest.predict_proba(X_test)[:,1])\n",
    "\n",
    "plt.plot(train_fpr, train_tpr, label=\"train AUC =\"+str(auc(train_fpr, train_tpr)),color='blue')\n",
    "plt.plot(test_fpr, test_tpr, label=\"test AUC =\"+str(auc(test_fpr, test_tpr)), color='green')\n",
    "plt.grid(True)\n",
    "plt.xlabel(\"False Positive Rate\")\n",
    "plt.ylabel(\"True Positive Rate\")\n",
    "plt.title(\"ROC Curve\")\n",
    "plt.plot([0, 1], [0, 1],'k--', label = \"50%\")\n",
    "plt.legend()\n",
    "\n",
    "plt.xlim([0, 1])\n",
    "plt.ylim([0, 1])\n",
    "plt.show()"
   ]
  },
  {
   "cell_type": "code",
   "execution_count": null,
   "metadata": {
    "colab": {
     "base_uri": "https://localhost:8080/",
     "height": 298
    },
    "id": "vsPnxt7XE0-H",
    "outputId": "e57fb1ea-4f77-49e6-f466-88ac71bada71"
   },
   "outputs": [
    {
     "data": {
      "text/plain": [
       "<sklearn.metrics._plot.confusion_matrix.ConfusionMatrixDisplay at 0x7f374d3ec6d0>"
      ]
     },
     "execution_count": 23,
     "metadata": {
      "tags": []
     },
     "output_type": "execute_result"
    },
    {
     "data": {
      "image/png": "[encoded data removed]",
      "text/plain": [
       "<Figure size 432x288 with 2 Axes>"
      ]
     },
     "metadata": {
      "needs_background": "light",
      "tags": []
     },
     "output_type": "display_data"
    }
   ],
   "source": [
    "plot_confusion_matrix(random_forest, X_test, y_test, normalize = 'true')"
   ]
  },
  {
   "cell_type": "code",
   "execution_count": null,
   "metadata": {
    "id": "LsM9SIWOXSN2"
   },
   "outputs": [],
   "source": [
    "cols = list(X_train)\n",
    "imp_score = random_forest.feature_importances_\n",
    "\n",
    "imp_features = pd.DataFrame({'Feature name':cols, \n",
    "                            'Importance score': imp_score}).sort_values(by = 'Importance score', ascending = False)"
   ]
  },
  {
   "cell_type": "code",
   "execution_count": null,
   "metadata": {
    "colab": {
     "base_uri": "https://localhost:8080/",
     "height": 269
    },
    "id": "xkSXv_TRX2_i",
    "outputId": "5201d7e0-c566-4e8a-fe13-3e8835e79b99"
   },
   "outputs": [
    {
     "data": {
      "text/html": [
       "<div>\n",
       "<style scoped>\n",
       "    .dataframe tbody tr th:only-of-type {\n",
       "        vertical-align: middle;\n",
       "    }\n",
       "\n",
       "    .dataframe tbody tr th {\n",
       "        vertical-align: top;\n",
       "    }\n",
       "\n",
       "    .dataframe thead th {\n",
       "        text-align: right;\n",
       "    }\n",
       "</style>\n",
       "<table border=\"1\" class=\"dataframe\">\n",
       "  <thead>\n",
       "    <tr style=\"text-align: right;\">\n",
       "      <th></th>\n",
       "      <th>Feature name</th>\n",
       "      <th>Importance score</th>\n",
       "    </tr>\n",
       "  </thead>\n",
       "  <tbody>\n",
       "    <tr>\n",
       "      <th>6</th>\n",
       "      <td>amount</td>\n",
       "      <td>0.397183</td>\n",
       "    </tr>\n",
       "    <tr>\n",
       "      <th>5</th>\n",
       "      <td>category</td>\n",
       "      <td>0.335176</td>\n",
       "    </tr>\n",
       "    <tr>\n",
       "      <th>4</th>\n",
       "      <td>merchant</td>\n",
       "      <td>0.215416</td>\n",
       "    </tr>\n",
       "    <tr>\n",
       "      <th>1</th>\n",
       "      <td>customer</td>\n",
       "      <td>0.021501</td>\n",
       "    </tr>\n",
       "    <tr>\n",
       "      <th>0</th>\n",
       "      <td>step</td>\n",
       "      <td>0.018509</td>\n",
       "    </tr>\n",
       "    <tr>\n",
       "      <th>2</th>\n",
       "      <td>age</td>\n",
       "      <td>0.007767</td>\n",
       "    </tr>\n",
       "    <tr>\n",
       "      <th>3</th>\n",
       "      <td>gender</td>\n",
       "      <td>0.004448</td>\n",
       "    </tr>\n",
       "  </tbody>\n",
       "</table>\n",
       "</div>"
      ],
      "text/plain": [
       "  Feature name  Importance score\n",
       "6       amount          0.397183\n",
       "5     category          0.335176\n",
       "4     merchant          0.215416\n",
       "1     customer          0.021501\n",
       "0         step          0.018509\n",
       "2          age          0.007767\n",
       "3       gender          0.004448"
      ]
     },
     "execution_count": 58,
     "metadata": {
      "tags": []
     },
     "output_type": "execute_result"
    }
   ],
   "source": [
    "imp_features"
   ]
  },
  {
   "cell_type": "code",
   "execution_count": null,
   "metadata": {
    "colab": {
     "base_uri": "https://localhost:8080/",
     "height": 314
    },
    "id": "2gsrE0b6YPAl",
    "outputId": "6ed110a6-5434-4ce3-e2cb-6b101cb2050f"
   },
   "outputs": [
    {
     "data": {
      "text/plain": [
       "<matplotlib.axes._subplots.AxesSubplot at 0x7f374006c550>"
      ]
     },
     "execution_count": 64,
     "metadata": {
      "tags": []
     },
     "output_type": "execute_result"
    },
    {
     "data": {
      "image/png": "[encoded data removed]",
      "text/plain": [
       "<Figure size 432x288 with 1 Axes>"
      ]
     },
     "metadata": {
      "needs_background": "light",
      "tags": []
     },
     "output_type": "display_data"
    }
   ],
   "source": [
    "plt.figure()\n",
    "plt.title(\"Feature Importance\")\n",
    "plt.grid('True', alpha = 0.4)\n",
    "sns.barplot(x=imp_features['Importance score'],y= imp_features['Feature name'])"
   ]
  },
  {
   "cell_type": "code",
   "execution_count": null,
   "metadata": {
    "id": "MPDipFby7lYm"
   },
   "outputs": [],
   "source": [
    "probas_rf = random_forest.predict_proba(X_test)"
   ]
  },
  {
   "cell_type": "code",
   "execution_count": null,
   "metadata": {
    "id": "HI-qIzjf9pnQ"
   },
   "outputs": [],
   "source": [
    "heat = pd.DataFrame({'amount':X_test['amount'],\n",
    "                     'probas for fraud':probas_rf[:,1], \n",
    "                     'probas for not':probas_rf[:,0] })"
   ]
  },
  {
   "cell_type": "code",
   "execution_count": null,
   "metadata": {
    "id": "IX8SFs3n-Lh1"
   },
   "outputs": [],
   "source": [
    "heat= heat.sample(500)\n",
    "heat = heat.sort_values(by='amount')"
   ]
  },
  {
   "cell_type": "code",
   "execution_count": null,
   "metadata": {
    "id": "-NsyL00X-gpG"
   },
   "outputs": [],
   "source": [
    "heat.reset_index(drop=True, inplace=True)"
   ]
  },
  {
   "cell_type": "code",
   "execution_count": null,
   "metadata": {
    "colab": {
     "base_uri": "https://localhost:8080/",
     "height": 424
    },
    "id": "zkNs242D-5bB",
    "outputId": "0c7e0159-64fd-4965-f010-bfc66f4f3626"
   },
   "outputs": [
    {
     "data": {
      "text/html": [
       "<div>\n",
       "<style scoped>\n",
       "    .dataframe tbody tr th:only-of-type {\n",
       "        vertical-align: middle;\n",
       "    }\n",
       "\n",
       "    .dataframe tbody tr th {\n",
       "        vertical-align: top;\n",
       "    }\n",
       "\n",
       "    .dataframe thead th {\n",
       "        text-align: right;\n",
       "    }\n",
       "</style>\n",
       "<table border=\"1\" class=\"dataframe\">\n",
       "  <thead>\n",
       "    <tr style=\"text-align: right;\">\n",
       "      <th></th>\n",
       "      <th>amount</th>\n",
       "      <th>probas for fraud</th>\n",
       "      <th>probas for not</th>\n",
       "    </tr>\n",
       "  </thead>\n",
       "  <tbody>\n",
       "    <tr>\n",
       "      <th>0</th>\n",
       "      <td>0.03</td>\n",
       "      <td>0.000000</td>\n",
       "      <td>1.000000</td>\n",
       "    </tr>\n",
       "    <tr>\n",
       "      <th>1</th>\n",
       "      <td>0.19</td>\n",
       "      <td>0.000000</td>\n",
       "      <td>1.000000</td>\n",
       "    </tr>\n",
       "    <tr>\n",
       "      <th>2</th>\n",
       "      <td>0.33</td>\n",
       "      <td>0.000000</td>\n",
       "      <td>1.000000</td>\n",
       "    </tr>\n",
       "    <tr>\n",
       "      <th>3</th>\n",
       "      <td>0.41</td>\n",
       "      <td>0.000000</td>\n",
       "      <td>1.000000</td>\n",
       "    </tr>\n",
       "    <tr>\n",
       "      <th>4</th>\n",
       "      <td>0.52</td>\n",
       "      <td>0.000000</td>\n",
       "      <td>1.000000</td>\n",
       "    </tr>\n",
       "    <tr>\n",
       "      <th>...</th>\n",
       "      <td>...</td>\n",
       "      <td>...</td>\n",
       "      <td>...</td>\n",
       "    </tr>\n",
       "    <tr>\n",
       "      <th>495</th>\n",
       "      <td>179.14</td>\n",
       "      <td>0.824755</td>\n",
       "      <td>0.175245</td>\n",
       "    </tr>\n",
       "    <tr>\n",
       "      <th>496</th>\n",
       "      <td>181.09</td>\n",
       "      <td>0.697734</td>\n",
       "      <td>0.302266</td>\n",
       "    </tr>\n",
       "    <tr>\n",
       "      <th>497</th>\n",
       "      <td>271.10</td>\n",
       "      <td>0.955956</td>\n",
       "      <td>0.044044</td>\n",
       "    </tr>\n",
       "    <tr>\n",
       "      <th>498</th>\n",
       "      <td>298.97</td>\n",
       "      <td>0.914970</td>\n",
       "      <td>0.085030</td>\n",
       "    </tr>\n",
       "    <tr>\n",
       "      <th>499</th>\n",
       "      <td>749.53</td>\n",
       "      <td>0.792836</td>\n",
       "      <td>0.207164</td>\n",
       "    </tr>\n",
       "  </tbody>\n",
       "</table>\n",
       "<p>500 rows × 3 columns</p>\n",
       "</div>"
      ],
      "text/plain": [
       "     amount  probas for fraud  probas for not\n",
       "0      0.03          0.000000        1.000000\n",
       "1      0.19          0.000000        1.000000\n",
       "2      0.33          0.000000        1.000000\n",
       "3      0.41          0.000000        1.000000\n",
       "4      0.52          0.000000        1.000000\n",
       "..      ...               ...             ...\n",
       "495  179.14          0.824755        0.175245\n",
       "496  181.09          0.697734        0.302266\n",
       "497  271.10          0.955956        0.044044\n",
       "498  298.97          0.914970        0.085030\n",
       "499  749.53          0.792836        0.207164\n",
       "\n",
       "[500 rows x 3 columns]"
      ]
     },
     "execution_count": 173,
     "metadata": {
      "tags": []
     },
     "output_type": "execute_result"
    }
   ],
   "source": [
    "heat"
   ]
  },
  {
   "cell_type": "code",
   "execution_count": null,
   "metadata": {
    "colab": {
     "base_uri": "https://localhost:8080/",
     "height": 288
    },
    "id": "-Xud5XbE7lMo",
    "outputId": "182f96ca-f36a-404a-aa44-f8f558de02d5"
   },
   "outputs": [
    {
     "data": {
      "text/plain": [
       "<matplotlib.axes._subplots.AxesSubplot at 0x7f373e41ec10>"
      ]
     },
     "execution_count": 174,
     "metadata": {
      "tags": []
     },
     "output_type": "execute_result"
    },
    {
     "data": {
      "image/png": "[encoded data removed]",
      "text/plain": [
       "<Figure size 432x288 with 2 Axes>"
      ]
     },
     "metadata": {
      "needs_background": "light",
      "tags": []
     },
     "output_type": "display_data"
    }
   ],
   "source": [
    "sns.heatmap(heat.corr() , vmin=-1, vmax=1)"
   ]
  },
  {
   "cell_type": "markdown",
   "metadata": {
    "id": "1V1dnvN8G5og"
   },
   "source": [
    "best model yet"
   ]
  },
  {
   "cell_type": "markdown",
   "metadata": {
    "id": "f5SLbmaxG2B9"
   },
   "source": [
    "# Reduction and visualisations"
   ]
  },
  {
   "cell_type": "markdown",
   "metadata": {
    "id": "Ms_whaN8GvLb"
   },
   "source": [
    "Let us observe the data and visualzie it through principal components. "
   ]
  },
  {
   "cell_type": "code",
   "execution_count": null,
   "metadata": {
    "id": "ksIDi-1AEyF-"
   },
   "outputs": [],
   "source": [
    "from sklearn.decomposition import PCA\n",
    "\n",
    "pca= PCA(n_components = 2)\n",
    "\n",
    "X_train_pca = pca.fit_transform(X_train)\n",
    "X_test_pca = pca.transform(X_test)\n"
   ]
  },
  {
   "cell_type": "code",
   "execution_count": null,
   "metadata": {
    "colab": {
     "base_uri": "https://localhost:8080/",
     "height": 413
    },
    "id": "ZCTHM6XwJF8Q",
    "outputId": "d755d4c3-7905-4fa6-8ad1-804be2a7be1b"
   },
   "outputs": [
    {
     "name": "stderr",
     "output_type": "stream",
     "text": [
      "/usr/local/lib/python3.7/dist-packages/seaborn/_decorators.py:43: FutureWarning: Pass the following variables as keyword args: x, y. From version 0.12, the only valid positional argument will be `data`, and passing other arguments without an explicit keyword will result in an error or misinterpretation.\n",
      "  FutureWarning\n"
     ]
    },
    {
     "data": {
      "text/plain": [
       "<matplotlib.axes._subplots.AxesSubplot at 0x7f37414b4610>"
      ]
     },
     "execution_count": 34,
     "metadata": {
      "tags": []
     },
     "output_type": "execute_result"
    },
    {
     "name": "stderr",
     "output_type": "stream",
     "text": [
      "/usr/local/lib/python3.7/dist-packages/google/colab/_event_manager.py:28: UserWarning: Creating legend with loc=\"best\" can be slow with large amounts of data.\n",
      "  func(*args, **kwargs)\n",
      "/usr/local/lib/python3.7/dist-packages/IPython/core/pylabtools.py:125: UserWarning: Creating legend with loc=\"best\" can be slow with large amounts of data.\n",
      "  fig.canvas.print_figure(bytes_io, **kw)\n"
     ]
    },
    {
     "data": {
      "image/png": "[encoded data removed]",
      "text/plain": [
       "<Figure size 432x288 with 1 Axes>"
      ]
     },
     "metadata": {
      "needs_background": "light",
      "tags": []
     },
     "output_type": "display_data"
    }
   ],
   "source": [
    "plt.figure()\n",
    "plt.title('PCA transformed data')\n",
    "sns.scatterplot(X_train_pca[:,0], X_train_pca[:,1], hue = y_train)"
   ]
  },
  {
   "cell_type": "markdown",
   "metadata": {
    "id": "JhMVh_-RN0gs"
   },
   "source": [
    "## Other experiments with differnet models"
   ]
  },
  {
   "cell_type": "markdown",
   "metadata": {
    "id": "f1EHD_-4NyhW"
   },
   "source": [
    "## XGB classifier"
   ]
  },
  {
   "cell_type": "code",
   "execution_count": null,
   "metadata": {
    "id": "fCbG-8ehLS6l"
   },
   "outputs": [],
   "source": [
    "xgb = XGBClassifier(n_jobs=-1,learning_rate=0.1)\n",
    "\n",
    "xgb.fit(X_train, y_train)\n",
    "\n",
    "preds = xgb.predict(X_test)\n"
   ]
  },
  {
   "cell_type": "code",
   "execution_count": null,
   "metadata": {
    "colab": {
     "base_uri": "https://localhost:8080/"
    },
    "id": "0hQXQnRuLuYK",
    "outputId": "354ae415-d8cf-49d6-fafc-6543e055dac9"
   },
   "outputs": [
    {
     "name": "stdout",
     "output_type": "stream",
     "text": [
      "              precision    recall  f1-score   support\n",
      "\n",
      "           0       1.00      1.00      1.00    117489\n",
      "           1       0.89      0.72      0.79      1440\n",
      "\n",
      "    accuracy                           1.00    118929\n",
      "   macro avg       0.94      0.86      0.90    118929\n",
      "weighted avg       1.00      1.00      1.00    118929\n",
      "\n"
     ]
    }
   ],
   "source": [
    "print(classification_report(y_test, preds))"
   ]
  },
  {
   "cell_type": "code",
   "execution_count": null,
   "metadata": {
    "colab": {
     "base_uri": "https://localhost:8080/"
    },
    "id": "TJgYvAaSZ_cz",
    "outputId": "2cf4ddf4-0f7a-4950-ec58-b80b79aba281"
   },
   "outputs": [
    {
     "name": "stdout",
     "output_type": "stream",
     "text": [
      "0.9955015177122485\n"
     ]
    }
   ],
   "source": [
    "print(accuracy_score(y_test, preds))"
   ]
  },
  {
   "cell_type": "code",
   "execution_count": null,
   "metadata": {
    "colab": {
     "base_uri": "https://localhost:8080/",
     "height": 295
    },
    "id": "nqHcDpLwMFCU",
    "outputId": "56f4c88a-b902-43a5-8e95-ffdfa7cf14ea"
   },
   "outputs": [
    {
     "data": {
      "image/png": "[encoded data removed]",
      "text/plain": [
       "<Figure size 432x288 with 1 Axes>"
      ]
     },
     "metadata": {
      "needs_background": "light",
      "tags": []
     },
     "output_type": "display_data"
    }
   ],
   "source": [
    "# roc_auc_score(y_true, y_score) the 2nd parameter should be probability estimates of the positive class\n",
    "# not the predicted outputs\n",
    "train_fpr, train_tpr, thresholds = roc_curve(y_train, y_score= xgb.predict_proba(X_train)[:,1])\n",
    "test_fpr, test_tpr, thresholds = roc_curve(y_test, xgb.predict_proba(X_test)[:,1])\n",
    "\n",
    "plt.plot(train_fpr, train_tpr, label=\"train AUC =\"+str(auc(train_fpr, train_tpr)),color='blue')\n",
    "plt.plot(test_fpr, test_tpr, label=\"test AUC =\"+str(auc(test_fpr, test_tpr)), color='green')\n",
    "plt.grid(True)\n",
    "plt.xlabel(\"False Positive Rate\")\n",
    "plt.ylabel(\"True Positive Rate\")\n",
    "plt.title(\"ROC Curve\")\n",
    "plt.plot([0, 1], [0, 1],'k--', label = \"50%\")\n",
    "plt.legend()\n",
    "\n",
    "plt.xlim([0, 1])\n",
    "plt.ylim([0, 1])\n",
    "plt.show()"
   ]
  },
  {
   "cell_type": "markdown",
   "metadata": {
    "id": "MfmokNx6NxX5"
   },
   "source": [
    "## KNN"
   ]
  },
  {
   "cell_type": "code",
   "execution_count": null,
   "metadata": {
    "id": "alcOHVWsMd2S"
   },
   "outputs": [],
   "source": [
    "from sklearn.neighbors import KNeighborsClassifier\n",
    "\n",
    "knn= KNeighborsClassifier(25)\n",
    "\n",
    "knn.fit(X_train, y_train)\n",
    "\n",
    "preds = knn.predict(X_test)"
   ]
  },
  {
   "cell_type": "code",
   "execution_count": null,
   "metadata": {
    "colab": {
     "base_uri": "https://localhost:8080/"
    },
    "id": "y0RlK9bTNwbj",
    "outputId": "9fc045d8-50f2-4e02-d324-6ffb77e4769a"
   },
   "outputs": [
    {
     "name": "stdout",
     "output_type": "stream",
     "text": [
      "              precision    recall  f1-score   support\n",
      "\n",
      "           0       0.99      1.00      1.00    117489\n",
      "           1       0.83      0.24      0.37      1440\n",
      "\n",
      "    accuracy                           0.99    118929\n",
      "   macro avg       0.91      0.62      0.68    118929\n",
      "weighted avg       0.99      0.99      0.99    118929\n",
      "\n"
     ]
    }
   ],
   "source": [
    "print(classification_report(y_test, preds))"
   ]
  },
  {
   "cell_type": "code",
   "execution_count": null,
   "metadata": {
    "colab": {
     "base_uri": "https://localhost:8080/"
    },
    "id": "VmSo9fjTafh1",
    "outputId": "aefdc7aa-d5fc-427c-fd8d-7bfe9d947345"
   },
   "outputs": [
    {
     "name": "stdout",
     "output_type": "stream",
     "text": [
      "0.9902042395042421\n"
     ]
    }
   ],
   "source": [
    "print(accuracy_score(y_test, preds))"
   ]
  },
  {
   "cell_type": "code",
   "execution_count": null,
   "metadata": {
    "colab": {
     "base_uri": "https://localhost:8080/",
     "height": 295
    },
    "id": "9YcvYF9jOE30",
    "outputId": "055ff8c4-b547-4c8b-e6e0-fdfe78fdd668"
   },
   "outputs": [
    {
     "data": {
      "image/png": "[encoded data removed]",
      "text/plain": [
       "<Figure size 432x288 with 1 Axes>"
      ]
     },
     "metadata": {
      "needs_background": "light",
      "tags": []
     },
     "output_type": "display_data"
    }
   ],
   "source": [
    "# roc_auc_score(y_true, y_score) the 2nd parameter should be probability estimates of the positive class\n",
    "# not the predicted outputs\n",
    "train_fpr, train_tpr, thresholds = roc_curve(y_train, y_score= knn.predict_proba(X_train)[:,1])\n",
    "test_fpr, test_tpr, thresholds = roc_curve(y_test, knn.predict_proba(X_test)[:,1])\n",
    "\n",
    "plt.plot(train_fpr, train_tpr, label=\"train AUC =\"+str(auc(train_fpr, train_tpr)),color='blue')\n",
    "plt.plot(test_fpr, test_tpr, label=\"test AUC =\"+str(auc(test_fpr, test_tpr)), color='green')\n",
    "plt.grid(True)\n",
    "plt.xlabel(\"False Positive Rate\")\n",
    "plt.ylabel(\"True Positive Rate\")\n",
    "plt.title(\"ROC Curve\")\n",
    "plt.plot([0, 1], [0, 1],'k--', label = \"50%\")\n",
    "plt.legend()\n",
    "\n",
    "plt.xlim([0, 1])\n",
    "plt.ylim([0, 1])\n",
    "plt.show()"
   ]
  },
  {
   "cell_type": "code",
   "execution_count": null,
   "metadata": {
    "colab": {
     "base_uri": "https://localhost:8080/"
    },
    "id": "-8iDBTdiOyyl",
    "outputId": "299f56a5-d84d-4b74-8dda-25dbfe6e9110"
   },
   "outputs": [
    {
     "data": {
      "text/plain": [
       "0.52"
      ]
     },
     "execution_count": 49,
     "metadata": {
      "tags": []
     },
     "output_type": "execute_result"
    }
   ],
   "source": [
    "thresholds[int(len(thresholds)/2-0.5)]"
   ]
  },
  {
   "cell_type": "code",
   "execution_count": null,
   "metadata": {
    "id": "6vHOW2m7juqh"
   },
   "outputs": [],
   "source": [
    "Intro\n",
    "  -aim and objectives\n",
    "\n",
    "Literature review\n",
    "\n",
    "Methodology\n",
    "  -data background\n",
    "  -data shape\n",
    "  -preprocessing\n",
    "\n",
    "EDA\n",
    "\n",
    "results (model building stage)\n",
    "\n",
    "conclusion and discussion \n",
    "\n",
    "references"
   ]
  }
 ],
 "metadata": {
  "colab": {
   "collapsed_sections": [
    "o2h-ZEkx3FnU",
    "vRFHW5z2BjNz",
    "0au8yd1PBl_T",
    "-UVDDgI9BoXN",
    "EsLsNQJg5VeF",
    "5-PTIR_W5VeG",
    "tvn1UW7t5VeJ",
    "6Eb5U1rvHbQ_",
    "0uOHq3QhEhSE",
    "f5SLbmaxG2B9",
    "JhMVh_-RN0gs",
    "f1EHD_-4NyhW",
    "MfmokNx6NxX5"
   ],
   "name": "Bank fraud detection.ipynb",
   "provenance": [],
   "toc_visible": true
  },
  "kernelspec": {
   "display_name": "Python 3",
   "language": "python",
   "name": "python3"
  },
  "language_info": {
   "codemirror_mode": {
    "name": "ipython",
    "version": 3
   },
   "file_extension": ".py",
   "mimetype": "text/x-python",
   "name": "python",
   "nbconvert_exporter": "python",
   "pygments_lexer": "ipython3",
   "version": "3.8.5"
  }
 },
 "nbformat": 4,
 "nbformat_minor": 1
}
